{
 "cells": [
  {
   "cell_type": "code",
   "execution_count": 1,
   "metadata": {},
   "outputs": [
    {
     "name": "stdout",
     "output_type": "stream",
     "text": [
      "Collecting h2o\n",
      "  Downloading h2o-3.32.0.3.tar.gz (164.6 MB)\n",
      "Requirement already satisfied: requests in c:\\users\\uba_p\\anaconda3\\lib\\site-packages (from h2o) (2.24.0)\n",
      "Collecting tabulate\n",
      "  Downloading tabulate-0.8.7-py3-none-any.whl (24 kB)\n",
      "Requirement already satisfied: future in c:\\users\\uba_p\\anaconda3\\lib\\site-packages (from h2o) (0.18.2)\n",
      "Requirement already satisfied: colorama>=0.3.8 in c:\\users\\uba_p\\anaconda3\\lib\\site-packages (from h2o) (0.4.3)\n",
      "Requirement already satisfied: urllib3!=1.25.0,!=1.25.1,<1.26,>=1.21.1 in c:\\users\\uba_p\\anaconda3\\lib\\site-packages (from requests->h2o) (1.25.9)\n",
      "Requirement already satisfied: chardet<4,>=3.0.2 in c:\\users\\uba_p\\anaconda3\\lib\\site-packages (from requests->h2o) (3.0.4)\n",
      "Requirement already satisfied: certifi>=2017.4.17 in c:\\users\\uba_p\\anaconda3\\lib\\site-packages (from requests->h2o) (2020.6.20)\n",
      "Requirement already satisfied: idna<3,>=2.5 in c:\\users\\uba_p\\anaconda3\\lib\\site-packages (from requests->h2o) (2.10)\n",
      "Building wheels for collected packages: h2o\n",
      "  Building wheel for h2o (setup.py): started\n",
      "  Building wheel for h2o (setup.py): finished with status 'done'\n",
      "  Created wheel for h2o: filename=h2o-3.32.0.3-py2.py3-none-any.whl size=164649670 sha256=9f39f62a3b6d381f8c017c7fa2e6197f8758053f1c32edcda1eecee4d31a0cd2\n",
      "  Stored in directory: c:\\users\\uba_p\\appdata\\local\\pip\\cache\\wheels\\ff\\74\\dd\\22b44c24f6014bd395f787198c069e11f9c2151748a17093f3\n",
      "Successfully built h2o\n",
      "Installing collected packages: tabulate, h2o\n",
      "Successfully installed h2o-3.32.0.3 tabulate-0.8.7\n"
     ]
    }
   ],
   "source": [
    "# https://www.kaggle.com/mlg-ulb/creditcardfraud\n",
    "!pip install h2o"
   ]
  },
  {
   "cell_type": "code",
   "execution_count": 34,
   "metadata": {},
   "outputs": [
    {
     "name": "stdout",
     "output_type": "stream",
     "text": [
      "Checking whether there is an H2O instance running at http://localhost:54323 . connected.\n"
     ]
    },
    {
     "data": {
      "text/html": [
       "<div style=\"overflow:auto\"><table style=\"width:50%\"><tr><td>H2O_cluster_uptime:</td>\n",
       "<td>27 mins 05 secs</td></tr>\n",
       "<tr><td>H2O_cluster_timezone:</td>\n",
       "<td>Europe/Paris</td></tr>\n",
       "<tr><td>H2O_data_parsing_timezone:</td>\n",
       "<td>UTC</td></tr>\n",
       "<tr><td>H2O_cluster_version:</td>\n",
       "<td>3.32.0.3</td></tr>\n",
       "<tr><td>H2O_cluster_version_age:</td>\n",
       "<td>1 month and 2 days </td></tr>\n",
       "<tr><td>H2O_cluster_name:</td>\n",
       "<td>H2O_from_python_uba_p_ncu04p</td></tr>\n",
       "<tr><td>H2O_cluster_total_nodes:</td>\n",
       "<td>1</td></tr>\n",
       "<tr><td>H2O_cluster_free_memory:</td>\n",
       "<td>6.706 Gb</td></tr>\n",
       "<tr><td>H2O_cluster_total_cores:</td>\n",
       "<td>12</td></tr>\n",
       "<tr><td>H2O_cluster_allowed_cores:</td>\n",
       "<td>12</td></tr>\n",
       "<tr><td>H2O_cluster_status:</td>\n",
       "<td>locked, healthy</td></tr>\n",
       "<tr><td>H2O_connection_url:</td>\n",
       "<td>http://localhost:54323</td></tr>\n",
       "<tr><td>H2O_connection_proxy:</td>\n",
       "<td>{\"http\": null, \"https\": null}</td></tr>\n",
       "<tr><td>H2O_internal_security:</td>\n",
       "<td>False</td></tr>\n",
       "<tr><td>H2O_API_Extensions:</td>\n",
       "<td>Amazon S3, Algos, AutoML, Core V3, TargetEncoder, Core V4</td></tr>\n",
       "<tr><td>Python_version:</td>\n",
       "<td>3.8.5 final</td></tr></table></div>"
      ],
      "text/plain": [
       "--------------------------  ---------------------------------------------------------\n",
       "H2O_cluster_uptime:         27 mins 05 secs\n",
       "H2O_cluster_timezone:       Europe/Paris\n",
       "H2O_data_parsing_timezone:  UTC\n",
       "H2O_cluster_version:        3.32.0.3\n",
       "H2O_cluster_version_age:    1 month and 2 days\n",
       "H2O_cluster_name:           H2O_from_python_uba_p_ncu04p\n",
       "H2O_cluster_total_nodes:    1\n",
       "H2O_cluster_free_memory:    6.706 Gb\n",
       "H2O_cluster_total_cores:    12\n",
       "H2O_cluster_allowed_cores:  12\n",
       "H2O_cluster_status:         locked, healthy\n",
       "H2O_connection_url:         http://localhost:54323\n",
       "H2O_connection_proxy:       {\"http\": null, \"https\": null}\n",
       "H2O_internal_security:      False\n",
       "H2O_API_Extensions:         Amazon S3, Algos, AutoML, Core V3, TargetEncoder, Core V4\n",
       "Python_version:             3.8.5 final\n",
       "--------------------------  ---------------------------------------------------------"
      ]
     },
     "metadata": {},
     "output_type": "display_data"
    }
   ],
   "source": [
    "import h2o\n",
    "from h2o.estimators import H2OKMeansEstimator\n",
    "from h2o.estimators import H2ORandomForestEstimator\n",
    "import pandas as pd\n",
    "import matplotlib.pyplot as plt\n",
    "import seaborn as sns\n",
    "\n",
    "h2o.init(ip=\"localhost\", port=54323)"
   ]
  },
  {
   "cell_type": "code",
   "execution_count": 35,
   "metadata": {},
   "outputs": [
    {
     "name": "stdout",
     "output_type": "stream",
     "text": [
      "Parse progress: |█████████████████████████████████████████████████████████| 100%\n"
     ]
    }
   ],
   "source": [
    "transactions = h2o.import_file(\"C:\\\\Users\\\\uba_p\\\\Downloads\\\\TFM\\\\creditcard.csv\")"
   ]
  },
  {
   "cell_type": "code",
   "execution_count": 5,
   "metadata": {},
   "outputs": [
    {
     "data": {
      "text/html": [
       "<table>\n",
       "<thead>\n",
       "<tr><th style=\"text-align: right;\">  Time</th><th style=\"text-align: right;\">       V1</th><th style=\"text-align: right;\">        V2</th><th style=\"text-align: right;\">        V3</th><th style=\"text-align: right;\">       V4</th><th style=\"text-align: right;\">        V5</th><th style=\"text-align: right;\">        V6</th><th style=\"text-align: right;\">       V7</th><th style=\"text-align: right;\">        V8</th><th style=\"text-align: right;\">       V9</th><th style=\"text-align: right;\">       V10</th><th style=\"text-align: right;\">      V11</th><th style=\"text-align: right;\">       V12</th><th style=\"text-align: right;\">      V13</th><th style=\"text-align: right;\">       V14</th><th style=\"text-align: right;\">       V15</th><th style=\"text-align: right;\">      V16</th><th style=\"text-align: right;\">        V17</th><th style=\"text-align: right;\">       V18</th><th style=\"text-align: right;\">       V19</th><th style=\"text-align: right;\">       V20</th><th style=\"text-align: right;\">       V21</th><th style=\"text-align: right;\">       V22</th><th style=\"text-align: right;\">       V23</th><th style=\"text-align: right;\">       V24</th><th style=\"text-align: right;\">      V25</th><th style=\"text-align: right;\">       V26</th><th style=\"text-align: right;\">       V27</th><th style=\"text-align: right;\">        V28</th><th style=\"text-align: right;\">  Amount</th><th style=\"text-align: right;\">  Class</th></tr>\n",
       "</thead>\n",
       "<tbody>\n",
       "<tr><td style=\"text-align: right;\">     0</td><td style=\"text-align: right;\">-1.35981 </td><td style=\"text-align: right;\">-0.0727812</td><td style=\"text-align: right;\"> 2.53635  </td><td style=\"text-align: right;\"> 1.37816 </td><td style=\"text-align: right;\">-0.338321 </td><td style=\"text-align: right;\"> 0.462388 </td><td style=\"text-align: right;\"> 0.239599</td><td style=\"text-align: right;\"> 0.0986979</td><td style=\"text-align: right;\"> 0.363787</td><td style=\"text-align: right;\"> 0.0907942</td><td style=\"text-align: right;\">-0.5516  </td><td style=\"text-align: right;\">-0.617801 </td><td style=\"text-align: right;\">-0.99139 </td><td style=\"text-align: right;\">-0.311169 </td><td style=\"text-align: right;\"> 1.46818  </td><td style=\"text-align: right;\">-0.470401</td><td style=\"text-align: right;\"> 0.207971  </td><td style=\"text-align: right;\"> 0.0257906</td><td style=\"text-align: right;\"> 0.403993 </td><td style=\"text-align: right;\"> 0.251412 </td><td style=\"text-align: right;\">-0.0183068</td><td style=\"text-align: right;\"> 0.277838 </td><td style=\"text-align: right;\">-0.110474 </td><td style=\"text-align: right;\"> 0.0669281</td><td style=\"text-align: right;\"> 0.128539</td><td style=\"text-align: right;\">-0.189115 </td><td style=\"text-align: right;\"> 0.133558 </td><td style=\"text-align: right;\">-0.0210531 </td><td style=\"text-align: right;\">  149.62</td><td style=\"text-align: right;\">      0</td></tr>\n",
       "<tr><td style=\"text-align: right;\">     0</td><td style=\"text-align: right;\"> 1.19186 </td><td style=\"text-align: right;\"> 0.266151 </td><td style=\"text-align: right;\"> 0.16648  </td><td style=\"text-align: right;\"> 0.448154</td><td style=\"text-align: right;\"> 0.0600176</td><td style=\"text-align: right;\">-0.0823608</td><td style=\"text-align: right;\">-0.078803</td><td style=\"text-align: right;\"> 0.0851017</td><td style=\"text-align: right;\">-0.255425</td><td style=\"text-align: right;\">-0.166974 </td><td style=\"text-align: right;\"> 1.61273 </td><td style=\"text-align: right;\"> 1.06524  </td><td style=\"text-align: right;\"> 0.489095</td><td style=\"text-align: right;\">-0.143772 </td><td style=\"text-align: right;\"> 0.635558 </td><td style=\"text-align: right;\"> 0.463917</td><td style=\"text-align: right;\">-0.114805  </td><td style=\"text-align: right;\">-0.183361 </td><td style=\"text-align: right;\">-0.145783 </td><td style=\"text-align: right;\">-0.0690831</td><td style=\"text-align: right;\">-0.225775 </td><td style=\"text-align: right;\">-0.638672 </td><td style=\"text-align: right;\"> 0.101288 </td><td style=\"text-align: right;\">-0.339846 </td><td style=\"text-align: right;\"> 0.16717 </td><td style=\"text-align: right;\"> 0.125895 </td><td style=\"text-align: right;\">-0.0089831</td><td style=\"text-align: right;\"> 0.0147242 </td><td style=\"text-align: right;\">    2.69</td><td style=\"text-align: right;\">      0</td></tr>\n",
       "<tr><td style=\"text-align: right;\">     1</td><td style=\"text-align: right;\">-1.35835 </td><td style=\"text-align: right;\">-1.34016  </td><td style=\"text-align: right;\"> 1.77321  </td><td style=\"text-align: right;\"> 0.37978 </td><td style=\"text-align: right;\">-0.503198 </td><td style=\"text-align: right;\"> 1.8005   </td><td style=\"text-align: right;\"> 0.791461</td><td style=\"text-align: right;\"> 0.247676 </td><td style=\"text-align: right;\">-1.51465 </td><td style=\"text-align: right;\"> 0.207643 </td><td style=\"text-align: right;\"> 0.624501</td><td style=\"text-align: right;\"> 0.0660837</td><td style=\"text-align: right;\"> 0.717293</td><td style=\"text-align: right;\">-0.165946 </td><td style=\"text-align: right;\"> 2.34586  </td><td style=\"text-align: right;\">-2.89008 </td><td style=\"text-align: right;\"> 1.10997   </td><td style=\"text-align: right;\">-0.121359 </td><td style=\"text-align: right;\">-2.26186  </td><td style=\"text-align: right;\"> 0.52498  </td><td style=\"text-align: right;\"> 0.247998 </td><td style=\"text-align: right;\"> 0.771679 </td><td style=\"text-align: right;\"> 0.909412 </td><td style=\"text-align: right;\">-0.689281 </td><td style=\"text-align: right;\">-0.327642</td><td style=\"text-align: right;\">-0.139097 </td><td style=\"text-align: right;\">-0.0553528</td><td style=\"text-align: right;\">-0.0597518 </td><td style=\"text-align: right;\">  378.66</td><td style=\"text-align: right;\">      0</td></tr>\n",
       "<tr><td style=\"text-align: right;\">     1</td><td style=\"text-align: right;\">-0.966272</td><td style=\"text-align: right;\">-0.185226 </td><td style=\"text-align: right;\"> 1.79299  </td><td style=\"text-align: right;\">-0.863291</td><td style=\"text-align: right;\">-0.0103089</td><td style=\"text-align: right;\"> 1.2472   </td><td style=\"text-align: right;\"> 0.237609</td><td style=\"text-align: right;\"> 0.377436 </td><td style=\"text-align: right;\">-1.38702 </td><td style=\"text-align: right;\">-0.0549519</td><td style=\"text-align: right;\">-0.226487</td><td style=\"text-align: right;\"> 0.178228 </td><td style=\"text-align: right;\"> 0.507757</td><td style=\"text-align: right;\">-0.287924 </td><td style=\"text-align: right;\">-0.631418 </td><td style=\"text-align: right;\">-1.05965 </td><td style=\"text-align: right;\">-0.684093  </td><td style=\"text-align: right;\"> 1.96578  </td><td style=\"text-align: right;\">-1.23262  </td><td style=\"text-align: right;\">-0.208038 </td><td style=\"text-align: right;\">-0.1083   </td><td style=\"text-align: right;\"> 0.0052736</td><td style=\"text-align: right;\">-0.190321 </td><td style=\"text-align: right;\">-1.17558  </td><td style=\"text-align: right;\"> 0.647376</td><td style=\"text-align: right;\">-0.221929 </td><td style=\"text-align: right;\"> 0.0627228</td><td style=\"text-align: right;\"> 0.0614576 </td><td style=\"text-align: right;\">  123.5 </td><td style=\"text-align: right;\">      0</td></tr>\n",
       "<tr><td style=\"text-align: right;\">     2</td><td style=\"text-align: right;\">-1.15823 </td><td style=\"text-align: right;\"> 0.877737 </td><td style=\"text-align: right;\"> 1.54872  </td><td style=\"text-align: right;\"> 0.403034</td><td style=\"text-align: right;\">-0.407193 </td><td style=\"text-align: right;\"> 0.0959215</td><td style=\"text-align: right;\"> 0.592941</td><td style=\"text-align: right;\">-0.270533 </td><td style=\"text-align: right;\"> 0.817739</td><td style=\"text-align: right;\"> 0.753074 </td><td style=\"text-align: right;\">-0.822843</td><td style=\"text-align: right;\"> 0.538196 </td><td style=\"text-align: right;\"> 1.34585 </td><td style=\"text-align: right;\">-1.11967  </td><td style=\"text-align: right;\"> 0.175121 </td><td style=\"text-align: right;\">-0.451449</td><td style=\"text-align: right;\">-0.237033  </td><td style=\"text-align: right;\">-0.0381948</td><td style=\"text-align: right;\"> 0.803487 </td><td style=\"text-align: right;\"> 0.408542 </td><td style=\"text-align: right;\">-0.0094307</td><td style=\"text-align: right;\"> 0.798278 </td><td style=\"text-align: right;\">-0.137458 </td><td style=\"text-align: right;\"> 0.141267 </td><td style=\"text-align: right;\">-0.20601 </td><td style=\"text-align: right;\"> 0.502292 </td><td style=\"text-align: right;\"> 0.219422 </td><td style=\"text-align: right;\"> 0.215153  </td><td style=\"text-align: right;\">   69.99</td><td style=\"text-align: right;\">      0</td></tr>\n",
       "<tr><td style=\"text-align: right;\">     2</td><td style=\"text-align: right;\">-0.425966</td><td style=\"text-align: right;\"> 0.960523 </td><td style=\"text-align: right;\"> 1.14111  </td><td style=\"text-align: right;\">-0.168252</td><td style=\"text-align: right;\"> 0.420987 </td><td style=\"text-align: right;\">-0.0297276</td><td style=\"text-align: right;\"> 0.476201</td><td style=\"text-align: right;\"> 0.260314 </td><td style=\"text-align: right;\">-0.568671</td><td style=\"text-align: right;\">-0.371407 </td><td style=\"text-align: right;\"> 1.34126 </td><td style=\"text-align: right;\"> 0.359894 </td><td style=\"text-align: right;\">-0.358091</td><td style=\"text-align: right;\">-0.137134 </td><td style=\"text-align: right;\"> 0.517617 </td><td style=\"text-align: right;\"> 0.401726</td><td style=\"text-align: right;\">-0.0581328 </td><td style=\"text-align: right;\"> 0.0686531</td><td style=\"text-align: right;\">-0.0331938</td><td style=\"text-align: right;\"> 0.0849677</td><td style=\"text-align: right;\">-0.208254 </td><td style=\"text-align: right;\">-0.559825 </td><td style=\"text-align: right;\">-0.0263977</td><td style=\"text-align: right;\">-0.371427 </td><td style=\"text-align: right;\">-0.232794</td><td style=\"text-align: right;\"> 0.105915 </td><td style=\"text-align: right;\"> 0.253844 </td><td style=\"text-align: right;\"> 0.0810803 </td><td style=\"text-align: right;\">    3.67</td><td style=\"text-align: right;\">      0</td></tr>\n",
       "<tr><td style=\"text-align: right;\">     4</td><td style=\"text-align: right;\"> 1.22966 </td><td style=\"text-align: right;\"> 0.141004 </td><td style=\"text-align: right;\"> 0.0453708</td><td style=\"text-align: right;\"> 1.20261 </td><td style=\"text-align: right;\"> 0.191881 </td><td style=\"text-align: right;\"> 0.272708 </td><td style=\"text-align: right;\">-0.005159</td><td style=\"text-align: right;\"> 0.0812129</td><td style=\"text-align: right;\"> 0.46496 </td><td style=\"text-align: right;\">-0.0992543</td><td style=\"text-align: right;\">-1.41691 </td><td style=\"text-align: right;\">-0.153826 </td><td style=\"text-align: right;\">-0.751063</td><td style=\"text-align: right;\"> 0.167372 </td><td style=\"text-align: right;\"> 0.0501436</td><td style=\"text-align: right;\">-0.443587</td><td style=\"text-align: right;\"> 0.00282051</td><td style=\"text-align: right;\">-0.611987 </td><td style=\"text-align: right;\">-0.045575 </td><td style=\"text-align: right;\">-0.219633 </td><td style=\"text-align: right;\">-0.167716 </td><td style=\"text-align: right;\">-0.27071  </td><td style=\"text-align: right;\">-0.154104 </td><td style=\"text-align: right;\">-0.780055 </td><td style=\"text-align: right;\"> 0.750137</td><td style=\"text-align: right;\">-0.257237 </td><td style=\"text-align: right;\"> 0.0345074</td><td style=\"text-align: right;\"> 0.00516777</td><td style=\"text-align: right;\">    4.99</td><td style=\"text-align: right;\">      0</td></tr>\n",
       "<tr><td style=\"text-align: right;\">     7</td><td style=\"text-align: right;\">-0.644269</td><td style=\"text-align: right;\"> 1.41796  </td><td style=\"text-align: right;\"> 1.07438  </td><td style=\"text-align: right;\">-0.492199</td><td style=\"text-align: right;\"> 0.948934 </td><td style=\"text-align: right;\"> 0.428118 </td><td style=\"text-align: right;\"> 1.12063 </td><td style=\"text-align: right;\">-3.80786  </td><td style=\"text-align: right;\"> 0.615375</td><td style=\"text-align: right;\"> 1.24938  </td><td style=\"text-align: right;\">-0.619468</td><td style=\"text-align: right;\"> 0.291474 </td><td style=\"text-align: right;\"> 1.75796 </td><td style=\"text-align: right;\">-1.32387  </td><td style=\"text-align: right;\"> 0.686133 </td><td style=\"text-align: right;\">-0.076127</td><td style=\"text-align: right;\">-1.22213   </td><td style=\"text-align: right;\">-0.358222 </td><td style=\"text-align: right;\"> 0.324505 </td><td style=\"text-align: right;\">-0.156742 </td><td style=\"text-align: right;\"> 1.94347  </td><td style=\"text-align: right;\">-1.01545  </td><td style=\"text-align: right;\"> 0.0575035</td><td style=\"text-align: right;\">-0.649709 </td><td style=\"text-align: right;\">-0.415267</td><td style=\"text-align: right;\">-0.0516343</td><td style=\"text-align: right;\">-1.20692  </td><td style=\"text-align: right;\">-1.08534   </td><td style=\"text-align: right;\">   40.8 </td><td style=\"text-align: right;\">      0</td></tr>\n",
       "<tr><td style=\"text-align: right;\">     7</td><td style=\"text-align: right;\">-0.894286</td><td style=\"text-align: right;\"> 0.286157 </td><td style=\"text-align: right;\">-0.113192 </td><td style=\"text-align: right;\">-0.271526</td><td style=\"text-align: right;\"> 2.6696   </td><td style=\"text-align: right;\"> 3.72182  </td><td style=\"text-align: right;\"> 0.370145</td><td style=\"text-align: right;\"> 0.851084 </td><td style=\"text-align: right;\">-0.392048</td><td style=\"text-align: right;\">-0.41043  </td><td style=\"text-align: right;\">-0.705117</td><td style=\"text-align: right;\">-0.110452 </td><td style=\"text-align: right;\">-0.286254</td><td style=\"text-align: right;\"> 0.0743554</td><td style=\"text-align: right;\">-0.328783 </td><td style=\"text-align: right;\">-0.210077</td><td style=\"text-align: right;\">-0.499768  </td><td style=\"text-align: right;\"> 0.118765 </td><td style=\"text-align: right;\"> 0.570328 </td><td style=\"text-align: right;\"> 0.0527357</td><td style=\"text-align: right;\">-0.0734251</td><td style=\"text-align: right;\">-0.268092 </td><td style=\"text-align: right;\">-0.204233 </td><td style=\"text-align: right;\"> 1.01159  </td><td style=\"text-align: right;\"> 0.373205</td><td style=\"text-align: right;\">-0.384157 </td><td style=\"text-align: right;\"> 0.0117474</td><td style=\"text-align: right;\"> 0.142404  </td><td style=\"text-align: right;\">   93.2 </td><td style=\"text-align: right;\">      0</td></tr>\n",
       "<tr><td style=\"text-align: right;\">     9</td><td style=\"text-align: right;\">-0.338262</td><td style=\"text-align: right;\"> 1.11959  </td><td style=\"text-align: right;\"> 1.04437  </td><td style=\"text-align: right;\">-0.222187</td><td style=\"text-align: right;\"> 0.499361 </td><td style=\"text-align: right;\">-0.246761 </td><td style=\"text-align: right;\"> 0.651583</td><td style=\"text-align: right;\"> 0.0695386</td><td style=\"text-align: right;\">-0.736727</td><td style=\"text-align: right;\">-0.366846 </td><td style=\"text-align: right;\"> 1.01761 </td><td style=\"text-align: right;\"> 0.83639  </td><td style=\"text-align: right;\"> 1.00684 </td><td style=\"text-align: right;\">-0.443523 </td><td style=\"text-align: right;\"> 0.150219 </td><td style=\"text-align: right;\"> 0.739453</td><td style=\"text-align: right;\">-0.54098   </td><td style=\"text-align: right;\"> 0.476677 </td><td style=\"text-align: right;\"> 0.451773 </td><td style=\"text-align: right;\"> 0.203711 </td><td style=\"text-align: right;\">-0.246914 </td><td style=\"text-align: right;\">-0.633753 </td><td style=\"text-align: right;\">-0.120794 </td><td style=\"text-align: right;\">-0.38505  </td><td style=\"text-align: right;\">-0.069733</td><td style=\"text-align: right;\"> 0.0941988</td><td style=\"text-align: right;\"> 0.246219 </td><td style=\"text-align: right;\"> 0.0830756 </td><td style=\"text-align: right;\">    3.68</td><td style=\"text-align: right;\">      0</td></tr>\n",
       "</tbody>\n",
       "</table>"
      ]
     },
     "metadata": {},
     "output_type": "display_data"
    },
    {
     "data": {
      "text/plain": []
     },
     "execution_count": 5,
     "metadata": {},
     "output_type": "execute_result"
    }
   ],
   "source": [
    "transactions.head()"
   ]
  },
  {
   "cell_type": "code",
   "execution_count": 11,
   "metadata": {},
   "outputs": [
    {
     "data": {
      "text/plain": [
       "[88.34961925093133]"
      ]
     },
     "execution_count": 11,
     "metadata": {},
     "output_type": "execute_result"
    }
   ],
   "source": [
    "transactions[\"Amount\"].mean()\n",
    "# AVG amount per transaction"
   ]
  },
  {
   "cell_type": "code",
   "execution_count": 15,
   "metadata": {},
   "outputs": [
    {
     "data": {
      "text/html": [
       "<table>\n",
       "<thead>\n",
       "<tr><th style=\"text-align: right;\">  Class</th><th style=\"text-align: right;\">  Count</th></tr>\n",
       "</thead>\n",
       "<tbody>\n",
       "<tr><td style=\"text-align: right;\">      0</td><td style=\"text-align: right;\"> 284315</td></tr>\n",
       "<tr><td style=\"text-align: right;\">      1</td><td style=\"text-align: right;\">    492</td></tr>\n",
       "</tbody>\n",
       "</table>"
      ]
     },
     "metadata": {},
     "output_type": "display_data"
    },
    {
     "data": {
      "text/plain": []
     },
     "execution_count": 15,
     "metadata": {},
     "output_type": "execute_result"
    }
   ],
   "source": [
    "transactions['Class'].table()"
   ]
  },
  {
   "cell_type": "code",
   "execution_count": 36,
   "metadata": {},
   "outputs": [
    {
     "data": {
      "text/plain": [
       "Text(0.5, 1.0, 'Heatmap of Correlation')"
      ]
     },
     "execution_count": 36,
     "metadata": {},
     "output_type": "execute_result"
    },
    {
     "data": {
      "image/png": "[encoded data removed]",
      "text/plain": [
       "<Figure size 864x720 with 2 Axes>"
      ]
     },
     "metadata": {
      "needs_background": "light"
     },
     "output_type": "display_data"
    }
   ],
   "source": [
    "#heatmap\n",
    "\"\"\"\n",
    "corr = transactions.cor()\n",
    "plt.figure(figsize=(12,10))\n",
    "heat = sns.heatmap(data=corr)\n",
    "plt.title('Heatmap of Correlation')\n",
    "\n",
    "transactions.summary()\n",
    "\"\"\"\n",
    "\n",
    "transactions_pd = pd.read_csv(\"C:\\\\Users\\\\uba_p\\\\\\Downloads\\\\TFM\\\\creditcard.csv\")\n",
    "\n",
    "corr = transactions_pd.corr()\n",
    "plt.figure(figsize=(12,10))\n",
    "heat = sns.heatmap(data=corr)\n",
    "plt.title('Heatmap of Correlation')\n"
   ]
  },
  {
   "cell_type": "code",
   "execution_count": 37,
   "metadata": {},
   "outputs": [
    {
     "name": "stdout",
     "output_type": "stream",
     "text": [
      "Rows:284807\n",
      "Cols:31\n",
      "\n",
      "\n"
     ]
    },
    {
     "data": {
      "text/html": [
       "<table>\n",
       "<thead>\n",
       "<tr><th>       </th><th>Time             </th><th>V1                    </th><th>V2                    </th><th>V3                     </th><th>V4                   </th><th>V5                    </th><th>V6                    </th><th>V7                    </th><th>V8                   </th><th>V9                    </th><th>V10                  </th><th>V11                   </th><th>V12                    </th><th>V13                  </th><th>V14                  </th><th>V15                  </th><th>V16                   </th><th>V17                   </th><th>V18                  </th><th>V19                   </th><th>V20                  </th><th>V21                  </th><th>V22                   </th><th>V23                   </th><th>V24                  </th><th>V25                  </th><th>V26                   </th><th>V27                    </th><th>V28                    </th><th>Amount            </th><th>Class               </th></tr>\n",
       "</thead>\n",
       "<tbody>\n",
       "<tr><td>type   </td><td>int              </td><td>real                  </td><td>real                  </td><td>real                   </td><td>real                 </td><td>real                  </td><td>real                  </td><td>real                  </td><td>real                 </td><td>real                  </td><td>real                 </td><td>real                  </td><td>real                   </td><td>real                 </td><td>real                 </td><td>real                 </td><td>real                  </td><td>real                  </td><td>real                 </td><td>real                  </td><td>real                 </td><td>real                 </td><td>real                  </td><td>real                  </td><td>real                 </td><td>real                 </td><td>real                  </td><td>real                   </td><td>real                   </td><td>real              </td><td>int                 </td></tr>\n",
       "<tr><td>mins   </td><td>0.0              </td><td>-56.407509631329      </td><td>-72.7157275629303     </td><td>-48.3255893623954      </td><td>-5.68317119816995    </td><td>-113.743306711146     </td><td>-26.1605059358433     </td><td>-43.5572415712451     </td><td>-73.2167184552674    </td><td>-13.4340663182301     </td><td>-24.5882624372475    </td><td>-4.79747346479757     </td><td>-18.6837146333443      </td><td>-5.79188120632084    </td><td>-19.2143254902614    </td><td>-4.49894467676621    </td><td>-14.1298545174931     </td><td>-25.1627993693248     </td><td>-9.49874592104677    </td><td>-7.21352743017759     </td><td>-54.497720494566     </td><td>-34.8303821448146    </td><td>-10.933143697655      </td><td>-44.8077352037913     </td><td>-2.83662691870341    </td><td>-10.2953970749851    </td><td>-2.60455055280817     </td><td>-22.5656793207827      </td><td>-15.4300839055349      </td><td>0.0               </td><td>0.0                 </td></tr>\n",
       "<tr><td>mean   </td><td>94813.85957508064</td><td>1.1751608993193201e-15</td><td>2.8421010880277033e-16</td><td>-1.4306306600409113e-15</td><td>2.030984597736651e-15</td><td>1.1240669471750018e-15</td><td>1.4753378681671898e-15</td><td>-5.237130094792622e-16</td><td>8.302767223451719e-17</td><td>-2.471669934981396e-15</td><td>2.171492966133526e-15</td><td>1.8138353011232985e-15</td><td>-1.1943211313734394e-15</td><td>8.334700943541917e-16</td><td>1.057006134985584e-15</td><td>4.802831501565917e-15</td><td>1.4545809501085606e-15</td><td>-3.736245250553273e-16</td><td>9.835585787781266e-16</td><td>1.0218790428863653e-15</td><td>6.514478898400579e-16</td><td>1.564752284419747e-16</td><td>-3.065637128659096e-16</td><td>2.4269627268551175e-16</td><td>4.464334068609808e-15</td><td>4.726190573349439e-16</td><td>1.6829070487534827e-15</td><td>-3.6354544465185827e-16</td><td>-1.1895310733599096e-16</td><td>88.3496192509313  </td><td>0.001727485630620034</td></tr>\n",
       "<tr><td>maxs   </td><td>172792.0         </td><td>2.45492999121121      </td><td>22.0577289904909      </td><td>9.38255843282114       </td><td>16.8753440335975     </td><td>34.8016658766686      </td><td>73.3016255459646      </td><td>120.589493945238      </td><td>20.0072083651213     </td><td>15.5949946071278      </td><td>23.7451361206545     </td><td>12.0189131816199      </td><td>7.8483920756446        </td><td>7.12688295859376     </td><td>10.5267660517847     </td><td>8.87774159774277     </td><td>17.3151115176278      </td><td>9.25352625047285      </td><td>5.04106918541184     </td><td>5.59197142733558      </td><td>39.4209042482199     </td><td>27.2028391573154     </td><td>10.5030900899454      </td><td>22.5284116897749      </td><td>4.58454913689817     </td><td>7.51958867870916     </td><td>3.5173456116238       </td><td>31.6121981061363       </td><td>33.8478078188831       </td><td>25691.16          </td><td>1.0                 </td></tr>\n",
       "<tr><td>sigma  </td><td>47488.14595456615</td><td>1.958695803857486     </td><td>1.6513085794769973    </td><td>1.5162550051777715     </td><td>1.4158685749409199   </td><td>1.3802467340314397    </td><td>1.3322710897575754    </td><td>1.2370935981826663    </td><td>1.1943529026692037   </td><td>1.0986320892243193    </td><td>1.0888497654025169   </td><td>1.0207130277115588    </td><td>0.9992013895301448     </td><td>0.9952742301251535   </td><td>0.9585956112570636   </td><td>0.9153160116104393   </td><td>0.8762528873883703    </td><td>0.8493370636743892    </td><td>0.8381762095288416   </td><td>0.8140405007685786    </td><td>0.7709250248871167   </td><td>0.7345240143713131   </td><td>0.7257015604409116    </td><td>0.6244602955949901    </td><td>0.60564706782716     </td><td>0.5212780705409424   </td><td>0.4822270132610574    </td><td>0.4036324949650307     </td><td>0.3300832641602509     </td><td>250.12010924018853</td><td>0.041527189635465055</td></tr>\n",
       "<tr><td>zeros  </td><td>2                </td><td>0                     </td><td>0                     </td><td>0                      </td><td>0                    </td><td>0                     </td><td>0                     </td><td>0                     </td><td>0                    </td><td>0                     </td><td>0                    </td><td>0                     </td><td>0                      </td><td>0                    </td><td>0                    </td><td>0                    </td><td>0                     </td><td>0                     </td><td>0                    </td><td>0                     </td><td>0                    </td><td>0                    </td><td>0                     </td><td>0                     </td><td>0                    </td><td>0                    </td><td>0                     </td><td>0                      </td><td>0                      </td><td>1825              </td><td>284315              </td></tr>\n",
       "<tr><td>missing</td><td>0                </td><td>0                     </td><td>0                     </td><td>0                      </td><td>0                    </td><td>0                     </td><td>0                     </td><td>0                     </td><td>0                    </td><td>0                     </td><td>0                    </td><td>0                     </td><td>0                      </td><td>0                    </td><td>0                    </td><td>0                    </td><td>0                     </td><td>0                     </td><td>0                    </td><td>0                     </td><td>0                    </td><td>0                    </td><td>0                     </td><td>0                     </td><td>0                    </td><td>0                    </td><td>0                     </td><td>0                      </td><td>0                      </td><td>0                 </td><td>0                   </td></tr>\n",
       "<tr><td>0      </td><td>0.0              </td><td>-1.3598071336738      </td><td>-0.0727811733098497   </td><td>2.53634673796914       </td><td>1.37815522427443     </td><td>-0.338320769942518    </td><td>0.462387777762292     </td><td>0.239598554061257     </td><td>0.0986979012610507   </td><td>0.363786969611213     </td><td>0.0907941719789316   </td><td>-0.551599533260813    </td><td>-0.617800855762348     </td><td>-0.991389847235408   </td><td>-0.311169353699879   </td><td>1.46817697209427     </td><td>-0.470400525259478    </td><td>0.207971241929242     </td><td>0.0257905801985591   </td><td>0.403992960255733     </td><td>0.251412098239705    </td><td>-0.018306777944153   </td><td>0.277837575558899     </td><td>-0.110473910188767    </td><td>0.0669280749146731   </td><td>0.128539358273528    </td><td>-0.189114843888824    </td><td>0.133558376740387      </td><td>-0.0210530534538215    </td><td>149.62            </td><td>0.0                 </td></tr>\n",
       "<tr><td>1      </td><td>0.0              </td><td>1.19185711131486      </td><td>0.26615071205963      </td><td>0.16648011335321       </td><td>0.448154078460911    </td><td>0.0600176492822243    </td><td>-0.0823608088155687   </td><td>-0.0788029833323113   </td><td>0.0851016549148104   </td><td>-0.255425128109186    </td><td>-0.166974414004614   </td><td>1.61272666105479      </td><td>1.06523531137287       </td><td>0.48909501589608     </td><td>-0.143772296441519   </td><td>0.635558093258208    </td><td>0.463917041022171     </td><td>-0.114804663102346    </td><td>-0.183361270123994   </td><td>-0.145783041325259    </td><td>-0.0690831352230203  </td><td>-0.225775248033138   </td><td>-0.638671952771851    </td><td>0.101288021253234     </td><td>-0.339846475529127   </td><td>0.167170404418143    </td><td>0.125894532368176     </td><td>-0.00898309914322813   </td><td>0.0147241691924927     </td><td>2.69              </td><td>0.0                 </td></tr>\n",
       "<tr><td>2      </td><td>1.0              </td><td>-1.35835406159823     </td><td>-1.34016307473609     </td><td>1.77320934263119       </td><td>0.379779593034328    </td><td>-0.503198133318193    </td><td>1.80049938079263      </td><td>0.791460956450422     </td><td>0.247675786588991    </td><td>-1.51465432260583     </td><td>0.207642865216696    </td><td>0.624501459424895     </td><td>0.066083685268831      </td><td>0.717292731410831    </td><td>-0.165945922763554   </td><td>2.34586494901581     </td><td>-2.89008319444231     </td><td>1.10996937869599      </td><td>-0.121359313195888   </td><td>-2.26185709530414     </td><td>0.524979725224404    </td><td>0.247998153469754    </td><td>0.771679401917229     </td><td>0.909412262347719     </td><td>-0.689280956490685   </td><td>-0.327641833735251   </td><td>-0.139096571514147    </td><td>-0.0553527940384261    </td><td>-0.0597518405929204    </td><td>378.66            </td><td>0.0                 </td></tr>\n",
       "<tr><td>3      </td><td>1.0              </td><td>-0.966271711572087    </td><td>-0.185226008082898    </td><td>1.79299333957872       </td><td>-0.863291275036453   </td><td>-0.0103088796030823   </td><td>1.24720316752486      </td><td>0.23760893977178      </td><td>0.377435874652262    </td><td>-1.38702406270197     </td><td>-0.0549519224713749  </td><td>-0.226487263835401    </td><td>0.178228225877303      </td><td>0.507756869957169    </td><td>-0.28792374549456    </td><td>-0.631418117709045   </td><td>-1.0596472454325      </td><td>-0.684092786345479    </td><td>1.96577500349538     </td><td>-1.2326219700892      </td><td>-0.208037781160366   </td><td>-0.108300452035545   </td><td>0.00527359678253453   </td><td>-0.190320518742841    </td><td>-1.17557533186321    </td><td>0.647376034602038    </td><td>-0.221928844458407    </td><td>0.0627228487293033     </td><td>0.0614576285006353     </td><td>123.5             </td><td>0.0                 </td></tr>\n",
       "<tr><td>4      </td><td>2.0              </td><td>-1.15823309349523     </td><td>0.877736754848451     </td><td>1.548717846511         </td><td>0.403033933955121    </td><td>-0.407193377311653    </td><td>0.0959214624684256    </td><td>0.592940745385545     </td><td>-0.270532677192282   </td><td>0.817739308235294     </td><td>0.753074431976354    </td><td>-0.822842877946363    </td><td>0.53819555014995       </td><td>1.3458515932154      </td><td>-1.11966983471731    </td><td>0.175121130008994    </td><td>-0.451449182813529    </td><td>-0.237033239362776    </td><td>-0.0381947870352842  </td><td>0.803486924960175     </td><td>0.408542360392758    </td><td>-0.00943069713232919 </td><td>0.79827849458971      </td><td>-0.137458079619063    </td><td>0.141266983824769    </td><td>-0.206009587619756   </td><td>0.502292224181569     </td><td>0.219422229513348      </td><td>0.215153147499206      </td><td>69.99             </td><td>0.0                 </td></tr>\n",
       "<tr><td>5      </td><td>2.0              </td><td>-0.425965884412454    </td><td>0.960523044882985     </td><td>1.14110934232219       </td><td>-0.168252079760302   </td><td>0.42098688077219      </td><td>-0.0297275516639742   </td><td>0.476200948720027     </td><td>0.260314333074874    </td><td>-0.56867137571251     </td><td>-0.371407196834471   </td><td>1.34126198001957      </td><td>0.359893837038039      </td><td>-0.358090652573631   </td><td>-0.137133700217612   </td><td>0.517616806555742    </td><td>0.401725895589603     </td><td>-0.0581328233640131   </td><td>0.0686531494425432   </td><td>-0.0331937877876282   </td><td>0.0849676720682049   </td><td>-0.208253514656728   </td><td>-0.559824796253248    </td><td>-0.0263976679795373   </td><td>-0.371426583174346   </td><td>-0.232793816737034   </td><td>0.105914779097957     </td><td>0.253844224739337      </td><td>0.0810802569229443     </td><td>3.67              </td><td>0.0                 </td></tr>\n",
       "<tr><td>6      </td><td>4.0              </td><td>1.22965763450793      </td><td>0.141003507049326     </td><td>0.0453707735899449     </td><td>1.20261273673594     </td><td>0.191880988597645     </td><td>0.272708122899098     </td><td>-0.00515900288250983  </td><td>0.0812129398830894   </td><td>0.464959994783886     </td><td>-0.0992543211289237  </td><td>-1.41690724314928     </td><td>-0.153825826253651     </td><td>-0.75106271556262    </td><td>0.16737196252175     </td><td>0.0501435942254188   </td><td>-0.443586797916727    </td><td>0.00282051247234708   </td><td>-0.61198733994012    </td><td>-0.0455750446637976   </td><td>-0.21963255278686    </td><td>-0.167716265815783   </td><td>-0.270709726172363    </td><td>-0.154103786809305    </td><td>-0.780055415004671   </td><td>0.75013693580659     </td><td>-0.257236845917139    </td><td>0.0345074297438413     </td><td>0.00516776890624916    </td><td>4.99              </td><td>0.0                 </td></tr>\n",
       "<tr><td>7      </td><td>7.0              </td><td>-0.644269442348146    </td><td>1.41796354547385      </td><td>1.0743803763556        </td><td>-0.492199018495015   </td><td>0.948934094764157     </td><td>0.428118462833089     </td><td>1.12063135838353      </td><td>-3.80786423873589    </td><td>0.615374730667027     </td><td>1.24937617815176     </td><td>-0.619467796121913    </td><td>0.291474353088705      </td><td>1.75796421396042     </td><td>-1.32386521970526    </td><td>0.686132504394383    </td><td>-0.0761269994382006   </td><td>-1.2221273453247      </td><td>-0.358221569869078   </td><td>0.324504731321494     </td><td>-0.156741852488285   </td><td>1.94346533978412     </td><td>-1.01545470979971     </td><td>0.057503529867291     </td><td>-0.649709005559993   </td><td>-0.415266566234811   </td><td>-0.0516342969262494   </td><td>-1.20692108094258      </td><td>-1.08533918832377      </td><td>40.8              </td><td>0.0                 </td></tr>\n",
       "<tr><td>8      </td><td>7.0              </td><td>-0.89428608220282     </td><td>0.286157196276544     </td><td>-0.113192212729871     </td><td>-0.271526130088604   </td><td>2.6695986595986       </td><td>3.72181806112751      </td><td>0.370145127676916     </td><td>0.851084443200905    </td><td>-0.392047586798604    </td><td>-0.410430432848439   </td><td>-0.705116586646536    </td><td>-0.110452261733098     </td><td>-0.286253632470583   </td><td>0.0743553603016731   </td><td>-0.328783050303565   </td><td>-0.210077268148783    </td><td>-0.499767968800267    </td><td>0.118764861004217    </td><td>0.57032816746536      </td><td>0.0527356691149697   </td><td>-0.0734251001059225  </td><td>-0.268091632235551    </td><td>-0.204232669947878    </td><td>1.0115918018785      </td><td>0.373204680146282    </td><td>-0.384157307702294    </td><td>0.0117473564581996     </td><td>0.14240432992147       </td><td>93.2              </td><td>0.0                 </td></tr>\n",
       "<tr><td>9      </td><td>9.0              </td><td>-0.33826175242575     </td><td>1.11959337641566      </td><td>1.04436655157316       </td><td>-0.222187276738296   </td><td>0.49936080649727      </td><td>-0.24676110061991     </td><td>0.651583206489972     </td><td>0.0695385865186387   </td><td>-0.736727316364109    </td><td>-0.366845639206541   </td><td>1.01761446783262      </td><td>0.836389570307029      </td><td>1.00684351373408     </td><td>-0.443522816876142   </td><td>0.150219101422635    </td><td>0.739452777052119     </td><td>-0.540979921943059    </td><td>0.47667726004282     </td><td>0.451772964394125     </td><td>0.203711454727929    </td><td>-0.246913936910008   </td><td>-0.633752642406113    </td><td>-0.12079408408185     </td><td>-0.385049925313426   </td><td>-0.0697330460416923  </td><td>0.0941988339514961    </td><td>0.246219304619926      </td><td>0.0830756493473326     </td><td>3.68              </td><td>0.0                 </td></tr>\n",
       "</tbody>\n",
       "</table>"
      ]
     },
     "metadata": {},
     "output_type": "display_data"
    }
   ],
   "source": [
    "transactions.describe()"
   ]
  },
  {
   "cell_type": "code",
   "execution_count": 50,
   "metadata": {},
   "outputs": [],
   "source": [
    "x = transactions_pd.iloc[:,1 : 29]"
   ]
  },
  {
   "cell_type": "code",
   "execution_count": 53,
   "metadata": {},
   "outputs": [],
   "source": [
    "from sklearn.decomposition import PCA\n",
    "pca = PCA(n_components=2)\n",
    "principalComponents = pca.fit_transform(x)\n",
    "principalDf = pd.DataFrame(data = principalComponents\n",
    "             , columns = ['pc1', 'pc1'])\n"
   ]
  },
  {
   "cell_type": "code",
   "execution_count": 54,
   "metadata": {},
   "outputs": [
    {
     "data": {
      "text/html": [
       "<div>\n",
       "<style scoped>\n",
       "    .dataframe tbody tr th:only-of-type {\n",
       "        vertical-align: middle;\n",
       "    }\n",
       "\n",
       "    .dataframe tbody tr th {\n",
       "        vertical-align: top;\n",
       "    }\n",
       "\n",
       "    .dataframe thead th {\n",
       "        text-align: right;\n",
       "    }\n",
       "</style>\n",
       "<table border=\"1\" class=\"dataframe\">\n",
       "  <thead>\n",
       "    <tr style=\"text-align: right;\">\n",
       "      <th></th>\n",
       "      <th>pc1</th>\n",
       "      <th>pc1</th>\n",
       "    </tr>\n",
       "  </thead>\n",
       "  <tbody>\n",
       "    <tr>\n",
       "      <th>0</th>\n",
       "      <td>1.359744</td>\n",
       "      <td>0.073145</td>\n",
       "    </tr>\n",
       "    <tr>\n",
       "      <th>1</th>\n",
       "      <td>-1.191737</td>\n",
       "      <td>-0.265372</td>\n",
       "    </tr>\n",
       "    <tr>\n",
       "      <th>2</th>\n",
       "      <td>1.358460</td>\n",
       "      <td>1.341241</td>\n",
       "    </tr>\n",
       "    <tr>\n",
       "      <th>3</th>\n",
       "      <td>0.966297</td>\n",
       "      <td>0.184737</td>\n",
       "    </tr>\n",
       "    <tr>\n",
       "      <th>4</th>\n",
       "      <td>1.158303</td>\n",
       "      <td>-0.877740</td>\n",
       "    </tr>\n",
       "    <tr>\n",
       "      <th>...</th>\n",
       "      <td>...</td>\n",
       "      <td>...</td>\n",
       "    </tr>\n",
       "    <tr>\n",
       "      <th>284802</th>\n",
       "      <td>11.880805</td>\n",
       "      <td>-10.071001</td>\n",
       "    </tr>\n",
       "    <tr>\n",
       "      <th>284803</th>\n",
       "      <td>0.732867</td>\n",
       "      <td>0.055785</td>\n",
       "    </tr>\n",
       "    <tr>\n",
       "      <th>284804</th>\n",
       "      <td>-1.919533</td>\n",
       "      <td>0.301874</td>\n",
       "    </tr>\n",
       "    <tr>\n",
       "      <th>284805</th>\n",
       "      <td>0.240301</td>\n",
       "      <td>-0.529700</td>\n",
       "    </tr>\n",
       "    <tr>\n",
       "      <th>284806</th>\n",
       "      <td>0.533339</td>\n",
       "      <td>0.189601</td>\n",
       "    </tr>\n",
       "  </tbody>\n",
       "</table>\n",
       "<p>284807 rows × 2 columns</p>\n",
       "</div>"
      ],
      "text/plain": [
       "              pc1        pc1\n",
       "0        1.359744   0.073145\n",
       "1       -1.191737  -0.265372\n",
       "2        1.358460   1.341241\n",
       "3        0.966297   0.184737\n",
       "4        1.158303  -0.877740\n",
       "...           ...        ...\n",
       "284802  11.880805 -10.071001\n",
       "284803   0.732867   0.055785\n",
       "284804  -1.919533   0.301874\n",
       "284805   0.240301  -0.529700\n",
       "284806   0.533339   0.189601\n",
       "\n",
       "[284807 rows x 2 columns]"
      ]
     },
     "execution_count": 54,
     "metadata": {},
     "output_type": "execute_result"
    }
   ],
   "source": [
    "principalDf"
   ]
  },
  {
   "cell_type": "code",
   "execution_count": null,
   "metadata": {},
   "outputs": [],
   "source": []
  },
  {
   "cell_type": "code",
   "execution_count": null,
   "metadata": {},
   "outputs": [],
   "source": []
  },
  {
   "cell_type": "code",
   "execution_count": 42,
   "metadata": {},
   "outputs": [
    {
     "data": {
      "text/plain": [
       "['V1',\n",
       " 'V2',\n",
       " 'V3',\n",
       " 'V4',\n",
       " 'V5',\n",
       " 'V6',\n",
       " 'V7',\n",
       " 'V8',\n",
       " 'V9',\n",
       " 'V10',\n",
       " 'V11',\n",
       " 'V12',\n",
       " 'V13',\n",
       " 'V14',\n",
       " 'V15',\n",
       " 'V16',\n",
       " 'V17',\n",
       " 'V18',\n",
       " 'V19',\n",
       " 'V20',\n",
       " 'V21',\n",
       " 'V22',\n",
       " 'V23',\n",
       " 'V24',\n",
       " 'V25',\n",
       " 'V26',\n",
       " 'V27',\n",
       " 'V28']"
      ]
     },
     "execution_count": 42,
     "metadata": {},
     "output_type": "execute_result"
    }
   ],
   "source": [
    "# Set the predictors:\n",
    "predictors = transactions[1:29].names\n",
    "predictors"
   ]
  },
  {
   "cell_type": "code",
   "execution_count": 43,
   "metadata": {},
   "outputs": [
    {
     "data": {
      "text/html": [
       "<table>\n",
       "<thead>\n",
       "<tr><th>       </th><th>Time             </th><th>V1                    </th><th>V2                    </th><th>V3                     </th><th>V4                   </th><th>V5                    </th><th>V6                    </th><th>V7                    </th><th>V8                   </th><th>V9                    </th><th>V10                  </th><th>V11                   </th><th>V12                    </th><th>V13                  </th><th>V14                  </th><th>V15                  </th><th>V16                   </th><th>V17                   </th><th>V18                  </th><th>V19                   </th><th>V20                  </th><th>V21                  </th><th>V22                   </th><th>V23                   </th><th>V24                  </th><th>V25                  </th><th>V26                   </th><th>V27                    </th><th>V28                    </th><th>Amount            </th><th>Class               </th></tr>\n",
       "</thead>\n",
       "<tbody>\n",
       "<tr><td>type   </td><td>int              </td><td>real                  </td><td>real                  </td><td>real                   </td><td>real                 </td><td>real                  </td><td>real                  </td><td>real                  </td><td>real                 </td><td>real                  </td><td>real                 </td><td>real                  </td><td>real                   </td><td>real                 </td><td>real                 </td><td>real                 </td><td>real                  </td><td>real                  </td><td>real                 </td><td>real                  </td><td>real                 </td><td>real                 </td><td>real                  </td><td>real                  </td><td>real                 </td><td>real                 </td><td>real                  </td><td>real                   </td><td>real                   </td><td>real              </td><td>int                 </td></tr>\n",
       "<tr><td>mins   </td><td>0.0              </td><td>-56.407509631329      </td><td>-72.7157275629303     </td><td>-48.3255893623954      </td><td>-5.68317119816995    </td><td>-113.743306711146     </td><td>-26.1605059358433     </td><td>-43.5572415712451     </td><td>-73.2167184552674    </td><td>-13.4340663182301     </td><td>-24.5882624372475    </td><td>-4.79747346479757     </td><td>-18.6837146333443      </td><td>-5.79188120632084    </td><td>-19.2143254902614    </td><td>-4.49894467676621    </td><td>-14.1298545174931     </td><td>-25.1627993693248     </td><td>-9.49874592104677    </td><td>-7.21352743017759     </td><td>-54.497720494566     </td><td>-34.8303821448146    </td><td>-10.933143697655      </td><td>-44.8077352037913     </td><td>-2.83662691870341    </td><td>-10.2953970749851    </td><td>-2.60455055280817     </td><td>-22.5656793207827      </td><td>-15.4300839055349      </td><td>0.0               </td><td>0.0                 </td></tr>\n",
       "<tr><td>mean   </td><td>94813.85957508064</td><td>1.1751608993193201e-15</td><td>2.8421010880277033e-16</td><td>-1.4306306600409113e-15</td><td>2.030984597736651e-15</td><td>1.1240669471750018e-15</td><td>1.4753378681671898e-15</td><td>-5.237130094792622e-16</td><td>8.302767223451719e-17</td><td>-2.471669934981396e-15</td><td>2.171492966133526e-15</td><td>1.8138353011232985e-15</td><td>-1.1943211313734394e-15</td><td>8.334700943541917e-16</td><td>1.057006134985584e-15</td><td>4.802831501565917e-15</td><td>1.4545809501085606e-15</td><td>-3.736245250553273e-16</td><td>9.835585787781266e-16</td><td>1.0218790428863653e-15</td><td>6.514478898400579e-16</td><td>1.564752284419747e-16</td><td>-3.065637128659096e-16</td><td>2.4269627268551175e-16</td><td>4.464334068609808e-15</td><td>4.726190573349439e-16</td><td>1.6829070487534827e-15</td><td>-3.6354544465185827e-16</td><td>-1.1895310733599096e-16</td><td>88.3496192509313  </td><td>0.001727485630620034</td></tr>\n",
       "<tr><td>maxs   </td><td>172792.0         </td><td>2.45492999121121      </td><td>22.0577289904909      </td><td>9.38255843282114       </td><td>16.8753440335975     </td><td>34.8016658766686      </td><td>73.3016255459646      </td><td>120.589493945238      </td><td>20.0072083651213     </td><td>15.5949946071278      </td><td>23.7451361206545     </td><td>12.0189131816199      </td><td>7.8483920756446        </td><td>7.12688295859376     </td><td>10.5267660517847     </td><td>8.87774159774277     </td><td>17.3151115176278      </td><td>9.25352625047285      </td><td>5.04106918541184     </td><td>5.59197142733558      </td><td>39.4209042482199     </td><td>27.2028391573154     </td><td>10.5030900899454      </td><td>22.5284116897749      </td><td>4.58454913689817     </td><td>7.51958867870916     </td><td>3.5173456116238       </td><td>31.6121981061363       </td><td>33.8478078188831       </td><td>25691.16          </td><td>1.0                 </td></tr>\n",
       "<tr><td>sigma  </td><td>47488.14595456615</td><td>1.958695803857486     </td><td>1.6513085794769973    </td><td>1.5162550051777715     </td><td>1.4158685749409199   </td><td>1.3802467340314397    </td><td>1.3322710897575754    </td><td>1.2370935981826663    </td><td>1.1943529026692037   </td><td>1.0986320892243193    </td><td>1.0888497654025169   </td><td>1.0207130277115588    </td><td>0.9992013895301448     </td><td>0.9952742301251535   </td><td>0.9585956112570636   </td><td>0.9153160116104393   </td><td>0.8762528873883703    </td><td>0.8493370636743892    </td><td>0.8381762095288416   </td><td>0.8140405007685786    </td><td>0.7709250248871167   </td><td>0.7345240143713131   </td><td>0.7257015604409116    </td><td>0.6244602955949901    </td><td>0.60564706782716     </td><td>0.5212780705409424   </td><td>0.4822270132610574    </td><td>0.4036324949650307     </td><td>0.3300832641602509     </td><td>250.12010924018853</td><td>0.041527189635465055</td></tr>\n",
       "<tr><td>zeros  </td><td>2                </td><td>0                     </td><td>0                     </td><td>0                      </td><td>0                    </td><td>0                     </td><td>0                     </td><td>0                     </td><td>0                    </td><td>0                     </td><td>0                    </td><td>0                     </td><td>0                      </td><td>0                    </td><td>0                    </td><td>0                    </td><td>0                     </td><td>0                     </td><td>0                    </td><td>0                     </td><td>0                    </td><td>0                    </td><td>0                     </td><td>0                     </td><td>0                    </td><td>0                    </td><td>0                     </td><td>0                      </td><td>0                      </td><td>1825              </td><td>284315              </td></tr>\n",
       "<tr><td>missing</td><td>0                </td><td>0                     </td><td>0                     </td><td>0                      </td><td>0                    </td><td>0                     </td><td>0                     </td><td>0                     </td><td>0                    </td><td>0                     </td><td>0                    </td><td>0                     </td><td>0                      </td><td>0                    </td><td>0                    </td><td>0                    </td><td>0                     </td><td>0                     </td><td>0                    </td><td>0                     </td><td>0                    </td><td>0                    </td><td>0                     </td><td>0                     </td><td>0                    </td><td>0                    </td><td>0                     </td><td>0                      </td><td>0                      </td><td>0                 </td><td>0                   </td></tr>\n",
       "<tr><td>0      </td><td>0.0              </td><td>-1.3598071336738      </td><td>-0.0727811733098497   </td><td>2.53634673796914       </td><td>1.37815522427443     </td><td>-0.338320769942518    </td><td>0.462387777762292     </td><td>0.239598554061257     </td><td>0.0986979012610507   </td><td>0.363786969611213     </td><td>0.0907941719789316   </td><td>-0.551599533260813    </td><td>-0.617800855762348     </td><td>-0.991389847235408   </td><td>-0.311169353699879   </td><td>1.46817697209427     </td><td>-0.470400525259478    </td><td>0.207971241929242     </td><td>0.0257905801985591   </td><td>0.403992960255733     </td><td>0.251412098239705    </td><td>-0.018306777944153   </td><td>0.277837575558899     </td><td>-0.110473910188767    </td><td>0.0669280749146731   </td><td>0.128539358273528    </td><td>-0.189114843888824    </td><td>0.133558376740387      </td><td>-0.0210530534538215    </td><td>149.62            </td><td>0.0                 </td></tr>\n",
       "<tr><td>1      </td><td>0.0              </td><td>1.19185711131486      </td><td>0.26615071205963      </td><td>0.16648011335321       </td><td>0.448154078460911    </td><td>0.0600176492822243    </td><td>-0.0823608088155687   </td><td>-0.0788029833323113   </td><td>0.0851016549148104   </td><td>-0.255425128109186    </td><td>-0.166974414004614   </td><td>1.61272666105479      </td><td>1.06523531137287       </td><td>0.48909501589608     </td><td>-0.143772296441519   </td><td>0.635558093258208    </td><td>0.463917041022171     </td><td>-0.114804663102346    </td><td>-0.183361270123994   </td><td>-0.145783041325259    </td><td>-0.0690831352230203  </td><td>-0.225775248033138   </td><td>-0.638671952771851    </td><td>0.101288021253234     </td><td>-0.339846475529127   </td><td>0.167170404418143    </td><td>0.125894532368176     </td><td>-0.00898309914322813   </td><td>0.0147241691924927     </td><td>2.69              </td><td>0.0                 </td></tr>\n",
       "<tr><td>2      </td><td>1.0              </td><td>-1.35835406159823     </td><td>-1.34016307473609     </td><td>1.77320934263119       </td><td>0.379779593034328    </td><td>-0.503198133318193    </td><td>1.80049938079263      </td><td>0.791460956450422     </td><td>0.247675786588991    </td><td>-1.51465432260583     </td><td>0.207642865216696    </td><td>0.624501459424895     </td><td>0.066083685268831      </td><td>0.717292731410831    </td><td>-0.165945922763554   </td><td>2.34586494901581     </td><td>-2.89008319444231     </td><td>1.10996937869599      </td><td>-0.121359313195888   </td><td>-2.26185709530414     </td><td>0.524979725224404    </td><td>0.247998153469754    </td><td>0.771679401917229     </td><td>0.909412262347719     </td><td>-0.689280956490685   </td><td>-0.327641833735251   </td><td>-0.139096571514147    </td><td>-0.0553527940384261    </td><td>-0.0597518405929204    </td><td>378.66            </td><td>0.0                 </td></tr>\n",
       "<tr><td>3      </td><td>1.0              </td><td>-0.966271711572087    </td><td>-0.185226008082898    </td><td>1.79299333957872       </td><td>-0.863291275036453   </td><td>-0.0103088796030823   </td><td>1.24720316752486      </td><td>0.23760893977178      </td><td>0.377435874652262    </td><td>-1.38702406270197     </td><td>-0.0549519224713749  </td><td>-0.226487263835401    </td><td>0.178228225877303      </td><td>0.507756869957169    </td><td>-0.28792374549456    </td><td>-0.631418117709045   </td><td>-1.0596472454325      </td><td>-0.684092786345479    </td><td>1.96577500349538     </td><td>-1.2326219700892      </td><td>-0.208037781160366   </td><td>-0.108300452035545   </td><td>0.00527359678253453   </td><td>-0.190320518742841    </td><td>-1.17557533186321    </td><td>0.647376034602038    </td><td>-0.221928844458407    </td><td>0.0627228487293033     </td><td>0.0614576285006353     </td><td>123.5             </td><td>0.0                 </td></tr>\n",
       "<tr><td>4      </td><td>2.0              </td><td>-1.15823309349523     </td><td>0.877736754848451     </td><td>1.548717846511         </td><td>0.403033933955121    </td><td>-0.407193377311653    </td><td>0.0959214624684256    </td><td>0.592940745385545     </td><td>-0.270532677192282   </td><td>0.817739308235294     </td><td>0.753074431976354    </td><td>-0.822842877946363    </td><td>0.53819555014995       </td><td>1.3458515932154      </td><td>-1.11966983471731    </td><td>0.175121130008994    </td><td>-0.451449182813529    </td><td>-0.237033239362776    </td><td>-0.0381947870352842  </td><td>0.803486924960175     </td><td>0.408542360392758    </td><td>-0.00943069713232919 </td><td>0.79827849458971      </td><td>-0.137458079619063    </td><td>0.141266983824769    </td><td>-0.206009587619756   </td><td>0.502292224181569     </td><td>0.219422229513348      </td><td>0.215153147499206      </td><td>69.99             </td><td>0.0                 </td></tr>\n",
       "<tr><td>5      </td><td>2.0              </td><td>-0.425965884412454    </td><td>0.960523044882985     </td><td>1.14110934232219       </td><td>-0.168252079760302   </td><td>0.42098688077219      </td><td>-0.0297275516639742   </td><td>0.476200948720027     </td><td>0.260314333074874    </td><td>-0.56867137571251     </td><td>-0.371407196834471   </td><td>1.34126198001957      </td><td>0.359893837038039      </td><td>-0.358090652573631   </td><td>-0.137133700217612   </td><td>0.517616806555742    </td><td>0.401725895589603     </td><td>-0.0581328233640131   </td><td>0.0686531494425432   </td><td>-0.0331937877876282   </td><td>0.0849676720682049   </td><td>-0.208253514656728   </td><td>-0.559824796253248    </td><td>-0.0263976679795373   </td><td>-0.371426583174346   </td><td>-0.232793816737034   </td><td>0.105914779097957     </td><td>0.253844224739337      </td><td>0.0810802569229443     </td><td>3.67              </td><td>0.0                 </td></tr>\n",
       "<tr><td>6      </td><td>4.0              </td><td>1.22965763450793      </td><td>0.141003507049326     </td><td>0.0453707735899449     </td><td>1.20261273673594     </td><td>0.191880988597645     </td><td>0.272708122899098     </td><td>-0.00515900288250983  </td><td>0.0812129398830894   </td><td>0.464959994783886     </td><td>-0.0992543211289237  </td><td>-1.41690724314928     </td><td>-0.153825826253651     </td><td>-0.75106271556262    </td><td>0.16737196252175     </td><td>0.0501435942254188   </td><td>-0.443586797916727    </td><td>0.00282051247234708   </td><td>-0.61198733994012    </td><td>-0.0455750446637976   </td><td>-0.21963255278686    </td><td>-0.167716265815783   </td><td>-0.270709726172363    </td><td>-0.154103786809305    </td><td>-0.780055415004671   </td><td>0.75013693580659     </td><td>-0.257236845917139    </td><td>0.0345074297438413     </td><td>0.00516776890624916    </td><td>4.99              </td><td>0.0                 </td></tr>\n",
       "<tr><td>7      </td><td>7.0              </td><td>-0.644269442348146    </td><td>1.41796354547385      </td><td>1.0743803763556        </td><td>-0.492199018495015   </td><td>0.948934094764157     </td><td>0.428118462833089     </td><td>1.12063135838353      </td><td>-3.80786423873589    </td><td>0.615374730667027     </td><td>1.24937617815176     </td><td>-0.619467796121913    </td><td>0.291474353088705      </td><td>1.75796421396042     </td><td>-1.32386521970526    </td><td>0.686132504394383    </td><td>-0.0761269994382006   </td><td>-1.2221273453247      </td><td>-0.358221569869078   </td><td>0.324504731321494     </td><td>-0.156741852488285   </td><td>1.94346533978412     </td><td>-1.01545470979971     </td><td>0.057503529867291     </td><td>-0.649709005559993   </td><td>-0.415266566234811   </td><td>-0.0516342969262494   </td><td>-1.20692108094258      </td><td>-1.08533918832377      </td><td>40.8              </td><td>0.0                 </td></tr>\n",
       "<tr><td>8      </td><td>7.0              </td><td>-0.89428608220282     </td><td>0.286157196276544     </td><td>-0.113192212729871     </td><td>-0.271526130088604   </td><td>2.6695986595986       </td><td>3.72181806112751      </td><td>0.370145127676916     </td><td>0.851084443200905    </td><td>-0.392047586798604    </td><td>-0.410430432848439   </td><td>-0.705116586646536    </td><td>-0.110452261733098     </td><td>-0.286253632470583   </td><td>0.0743553603016731   </td><td>-0.328783050303565   </td><td>-0.210077268148783    </td><td>-0.499767968800267    </td><td>0.118764861004217    </td><td>0.57032816746536      </td><td>0.0527356691149697   </td><td>-0.0734251001059225  </td><td>-0.268091632235551    </td><td>-0.204232669947878    </td><td>1.0115918018785      </td><td>0.373204680146282    </td><td>-0.384157307702294    </td><td>0.0117473564581996     </td><td>0.14240432992147       </td><td>93.2              </td><td>0.0                 </td></tr>\n",
       "<tr><td>9      </td><td>9.0              </td><td>-0.33826175242575     </td><td>1.11959337641566      </td><td>1.04436655157316       </td><td>-0.222187276738296   </td><td>0.49936080649727      </td><td>-0.24676110061991     </td><td>0.651583206489972     </td><td>0.0695385865186387   </td><td>-0.736727316364109    </td><td>-0.366845639206541   </td><td>1.01761446783262      </td><td>0.836389570307029      </td><td>1.00684351373408     </td><td>-0.443522816876142   </td><td>0.150219101422635    </td><td>0.739452777052119     </td><td>-0.540979921943059    </td><td>0.47667726004282     </td><td>0.451772964394125     </td><td>0.203711454727929    </td><td>-0.246913936910008   </td><td>-0.633752642406113    </td><td>-0.12079408408185     </td><td>-0.385049925313426   </td><td>-0.0697330460416923  </td><td>0.0941988339514961    </td><td>0.246219304619926      </td><td>0.0830756493473326     </td><td>3.68              </td><td>0.0                 </td></tr>\n",
       "</tbody>\n",
       "</table>"
      ]
     },
     "metadata": {},
     "output_type": "display_data"
    }
   ],
   "source": [
    "#dropping old amount and time columns\n",
    "# transactions = transactions.drop(['Amount', 'Time'], axis=1)\n",
    "# transactions['Class'] = transactions['Class'].asfactor()\n",
    "transactions.summary()"
   ]
  },
  {
   "cell_type": "code",
   "execution_count": 44,
   "metadata": {},
   "outputs": [
    {
     "data": {
      "text/plain": [
       "85222"
      ]
     },
     "execution_count": 44,
     "metadata": {},
     "output_type": "execute_result"
    }
   ],
   "source": [
    "# Split the dataset into a train and valid set:\n",
    "train, valid = transactions.split_frame(ratios=[.7], seed=1234)\n",
    "len(valid)"
   ]
  },
  {
   "cell_type": "code",
   "execution_count": 47,
   "metadata": {},
   "outputs": [],
   "source": [
    "# Build and train the model:\n",
    "tr_kmeans = H2OKMeansEstimator(k=2,\n",
    "                                 estimate_k=True,\n",
    "                                 standardize=True,\n",
    "                                 seed=1234)"
   ]
  },
  {
   "cell_type": "code",
   "execution_count": 48,
   "metadata": {},
   "outputs": [
    {
     "name": "stdout",
     "output_type": "stream",
     "text": [
      "kmeans Model Build progress: |████████████████████████████████████████████| 100%\n",
      "kmeans prediction progress: |█████████████████████████████████████████████| 100%\n"
     ]
    },
    {
     "data": {
      "text/html": [
       "<table>\n",
       "<thead>\n",
       "<tr><th style=\"text-align: right;\">  predict</th><th style=\"text-align: right;\">  Count</th></tr>\n",
       "</thead>\n",
       "<tbody>\n",
       "<tr><td style=\"text-align: right;\">        0</td><td style=\"text-align: right;\">  37348</td></tr>\n",
       "<tr><td style=\"text-align: right;\">        1</td><td style=\"text-align: right;\">  47874</td></tr>\n",
       "</tbody>\n",
       "</table>"
      ]
     },
     "metadata": {},
     "output_type": "display_data"
    },
    {
     "data": {
      "text/plain": []
     },
     "execution_count": 48,
     "metadata": {},
     "output_type": "execute_result"
    }
   ],
   "source": [
    "tr_kmeans.train(x=predictors,\n",
    "                  training_frame=train,\n",
    "                  validation_frame=valid)\n",
    "\n",
    "# Eval performance:\n",
    "perf = tr_kmeans.model_performance()\n",
    "\n",
    "#  Generate predictions on a validation set (if necessary):\n",
    "pred = tr_kmeans.predict(valid)"
   ]
  },
  {
   "cell_type": "code",
   "execution_count": 49,
   "metadata": {},
   "outputs": [
    {
     "data": {
      "text/html": [
       "<table>\n",
       "<thead>\n",
       "<tr><th style=\"text-align: right;\">  predict</th><th style=\"text-align: right;\">  Count</th></tr>\n",
       "</thead>\n",
       "<tbody>\n",
       "<tr><td style=\"text-align: right;\">        0</td><td style=\"text-align: right;\">  37348</td></tr>\n",
       "<tr><td style=\"text-align: right;\">        1</td><td style=\"text-align: right;\">  47874</td></tr>\n",
       "</tbody>\n",
       "</table>"
      ]
     },
     "metadata": {},
     "output_type": "display_data"
    },
    {
     "data": {
      "text/plain": []
     },
     "execution_count": 49,
     "metadata": {},
     "output_type": "execute_result"
    }
   ],
   "source": [
    "# Eval performance:\n",
    "pred.table()"
   ]
  },
  {
   "cell_type": "code",
   "execution_count": 87,
   "metadata": {},
   "outputs": [],
   "source": [
    "# Training random forest\n",
    "trans_forest= H2ORandomForestEstimator(ntrees=10,\n",
    "                                    max_depth=5,\n",
    "                                    min_rows=10,\n",
    "                                    calibrate_model=True,\n",
    "                                    calibration_frame=valid,\n",
    "                                    binomial_double_trees=True)\n"
   ]
  },
  {
   "cell_type": "code",
   "execution_count": 90,
   "metadata": {},
   "outputs": [],
   "source": [
    "response = \"Class\""
   ]
  },
  {
   "cell_type": "code",
   "execution_count": 91,
   "metadata": {},
   "outputs": [
    {
     "name": "stdout",
     "output_type": "stream",
     "text": [
      "drf Model Build progress: |███████████████████████████████████████████████| 100%\n"
     ]
    }
   ],
   "source": [
    "trans_forest.train(x=predictors,\n",
    "               y=response,\n",
    "               training_frame=train,\n",
    "               validation_frame=valid)\n",
    "\n"
   ]
  },
  {
   "cell_type": "code",
   "execution_count": 96,
   "metadata": {},
   "outputs": [
    {
     "name": "stdout",
     "output_type": "stream",
     "text": [
      "drf prediction progress: |████████████████████████████████████████████████| 100%\n"
     ]
    },
    {
     "data": {
      "text/html": [
       "<table>\n",
       "<thead>\n",
       "<tr><th style=\"text-align: right;\">  predict</th><th style=\"text-align: right;\">      p0</th><th style=\"text-align: right;\">         p1</th><th style=\"text-align: right;\">  cal_p0</th><th style=\"text-align: right;\">     cal_p1</th></tr>\n",
       "</thead>\n",
       "<tbody>\n",
       "<tr><td style=\"text-align: right;\">        0</td><td style=\"text-align: right;\">0.999755</td><td style=\"text-align: right;\">0.000245037</td><td style=\"text-align: right;\">0.999623</td><td style=\"text-align: right;\">0.000377456</td></tr>\n",
       "<tr><td style=\"text-align: right;\">        0</td><td style=\"text-align: right;\">0.999755</td><td style=\"text-align: right;\">0.000245037</td><td style=\"text-align: right;\">0.999623</td><td style=\"text-align: right;\">0.000377456</td></tr>\n",
       "<tr><td style=\"text-align: right;\">        0</td><td style=\"text-align: right;\">0.999755</td><td style=\"text-align: right;\">0.000245037</td><td style=\"text-align: right;\">0.999623</td><td style=\"text-align: right;\">0.000377456</td></tr>\n",
       "<tr><td style=\"text-align: right;\">        0</td><td style=\"text-align: right;\">0.999755</td><td style=\"text-align: right;\">0.000245037</td><td style=\"text-align: right;\">0.999623</td><td style=\"text-align: right;\">0.000377456</td></tr>\n",
       "<tr><td style=\"text-align: right;\">        0</td><td style=\"text-align: right;\">0.999755</td><td style=\"text-align: right;\">0.000245037</td><td style=\"text-align: right;\">0.999623</td><td style=\"text-align: right;\">0.000377456</td></tr>\n",
       "<tr><td style=\"text-align: right;\">        0</td><td style=\"text-align: right;\">0.999755</td><td style=\"text-align: right;\">0.000245037</td><td style=\"text-align: right;\">0.999623</td><td style=\"text-align: right;\">0.000377456</td></tr>\n",
       "<tr><td style=\"text-align: right;\">        0</td><td style=\"text-align: right;\">0.999755</td><td style=\"text-align: right;\">0.000245037</td><td style=\"text-align: right;\">0.999623</td><td style=\"text-align: right;\">0.000377456</td></tr>\n",
       "<tr><td style=\"text-align: right;\">        0</td><td style=\"text-align: right;\">0.999755</td><td style=\"text-align: right;\">0.000245037</td><td style=\"text-align: right;\">0.999623</td><td style=\"text-align: right;\">0.000377456</td></tr>\n",
       "<tr><td style=\"text-align: right;\">        0</td><td style=\"text-align: right;\">0.99918 </td><td style=\"text-align: right;\">0.000820371</td><td style=\"text-align: right;\">0.999619</td><td style=\"text-align: right;\">0.000380865</td></tr>\n",
       "<tr><td style=\"text-align: right;\">        0</td><td style=\"text-align: right;\">0.999246</td><td style=\"text-align: right;\">0.000754484</td><td style=\"text-align: right;\">0.99962 </td><td style=\"text-align: right;\">0.000380473</td></tr>\n",
       "</tbody>\n",
       "</table>"
      ]
     },
     "metadata": {},
     "output_type": "display_data"
    },
    {
     "data": {
      "text/plain": []
     },
     "execution_count": 96,
     "metadata": {},
     "output_type": "execute_result"
    }
   ],
   "source": [
    "# Eval performance:\n",
    "perf = trans_forest.model_performance()\n",
    "\n",
    "# # Generate predictions on a validation set (if necessary):\n",
    "pred = trans_forest.predict(valid)\n"
   ]
  },
  {
   "cell_type": "code",
   "execution_count": 98,
   "metadata": {},
   "outputs": [
    {
     "data": {
      "text/html": [
       "<table>\n",
       "<thead>\n",
       "<tr><th style=\"text-align: right;\">  predict</th><th style=\"text-align: right;\">  Count</th></tr>\n",
       "</thead>\n",
       "<tbody>\n",
       "<tr><td style=\"text-align: right;\">        0</td><td style=\"text-align: right;\">  85086</td></tr>\n",
       "<tr><td style=\"text-align: right;\">        1</td><td style=\"text-align: right;\">    136</td></tr>\n",
       "</tbody>\n",
       "</table>"
      ]
     },
     "metadata": {},
     "output_type": "display_data"
    },
    {
     "data": {
      "text/plain": []
     },
     "execution_count": 98,
     "metadata": {},
     "output_type": "execute_result"
    }
   ],
   "source": [
    "# predictions\n",
    "pred[\"predict\"].table()"
   ]
  },
  {
   "cell_type": "code",
   "execution_count": 100,
   "metadata": {},
   "outputs": [
    {
     "data": {
      "text/html": [
       "<table>\n",
       "<thead>\n",
       "<tr><th style=\"text-align: right;\">  Class</th><th style=\"text-align: right;\">  Count</th></tr>\n",
       "</thead>\n",
       "<tbody>\n",
       "<tr><td style=\"text-align: right;\">      0</td><td style=\"text-align: right;\">  85071</td></tr>\n",
       "<tr><td style=\"text-align: right;\">      1</td><td style=\"text-align: right;\">    151</td></tr>\n",
       "</tbody>\n",
       "</table>"
      ]
     },
     "metadata": {},
     "output_type": "display_data"
    },
    {
     "data": {
      "text/plain": []
     },
     "execution_count": 100,
     "metadata": {},
     "output_type": "execute_result"
    }
   ],
   "source": [
    "# validation data\n",
    "valid[\"Class\"].table()"
   ]
  }
 ],
 "metadata": {
  "kernelspec": {
   "display_name": "Python 3",
   "language": "python",
   "name": "python3"
  },
  "language_info": {
   "codemirror_mode": {
    "name": "ipython",
    "version": 3
   },
   "file_extension": ".py",
   "mimetype": "text/x-python",
   "name": "python",
   "nbconvert_exporter": "python",
   "pygments_lexer": "ipython3",
   "version": "3.8.5"
  }
 },
 "nbformat": 4,
 "nbformat_minor": 4
}
