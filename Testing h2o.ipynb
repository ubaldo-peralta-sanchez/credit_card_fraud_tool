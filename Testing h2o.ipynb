{
 "cells": [
  {
   "cell_type": "code",
   "execution_count": 1,
   "metadata": {},
   "outputs": [
    {
     "name": "stdout",
     "output_type": "stream",
     "text": [
      "Collecting h2o\n",
      "  Downloading h2o-3.32.0.3.tar.gz (164.6 MB)\n",
      "Requirement already satisfied: requests in c:\\users\\uba_p\\anaconda3\\lib\\site-packages (from h2o) (2.24.0)\n",
      "Collecting tabulate\n",
      "  Downloading tabulate-0.8.7-py3-none-any.whl (24 kB)\n",
      "Requirement already satisfied: future in c:\\users\\uba_p\\anaconda3\\lib\\site-packages (from h2o) (0.18.2)\n",
      "Requirement already satisfied: colorama>=0.3.8 in c:\\users\\uba_p\\anaconda3\\lib\\site-packages (from h2o) (0.4.4)\n",
      "Requirement already satisfied: certifi>=2017.4.17 in c:\\users\\uba_p\\anaconda3\\lib\\site-packages (from requests->h2o) (2020.6.20)\n",
      "Requirement already satisfied: chardet<4,>=3.0.2 in c:\\users\\uba_p\\anaconda3\\lib\\site-packages (from requests->h2o) (3.0.4)\n",
      "Requirement already satisfied: urllib3!=1.25.0,!=1.25.1,<1.26,>=1.21.1 in c:\\users\\uba_p\\anaconda3\\lib\\site-packages (from requests->h2o) (1.25.11)\n",
      "Requirement already satisfied: idna<3,>=2.5 in c:\\users\\uba_p\\anaconda3\\lib\\site-packages (from requests->h2o) (2.10)\n",
      "Building wheels for collected packages: h2o\n",
      "  Building wheel for h2o (setup.py): started\n",
      "  Building wheel for h2o (setup.py): finished with status 'done'\n",
      "  Created wheel for h2o: filename=h2o-3.32.0.3-py2.py3-none-any.whl size=164649668 sha256=e47cbd7c22ecb4ad36aec431acd0996b8fa5db1345798126427afb1acc781d77\n",
      "  Stored in directory: c:\\users\\uba_p\\appdata\\local\\pip\\cache\\wheels\\ff\\74\\dd\\22b44c24f6014bd395f787198c069e11f9c2151748a17093f3\n",
      "Successfully built h2o\n",
      "Installing collected packages: tabulate, h2o\n",
      "Successfully installed h2o-3.32.0.3 tabulate-0.8.7\n"
     ]
    }
   ],
   "source": [
    "!pip install h2o"
   ]
  },
  {
   "cell_type": "code",
   "execution_count": 1,
   "metadata": {},
   "outputs": [
    {
     "name": "stdout",
     "output_type": "stream",
     "text": [
      "Checking whether there is an H2O instance running at http://localhost:54323 ..... connected.\n"
     ]
    },
    {
     "data": {
      "text/html": [
       "<div style=\"overflow:auto\"><table style=\"width:50%\"><tr><td>H2O_cluster_uptime:</td>\n",
       "<td>09 secs</td></tr>\n",
       "<tr><td>H2O_cluster_timezone:</td>\n",
       "<td>Europe/Paris</td></tr>\n",
       "<tr><td>H2O_data_parsing_timezone:</td>\n",
       "<td>UTC</td></tr>\n",
       "<tr><td>H2O_cluster_version:</td>\n",
       "<td>3.32.0.3</td></tr>\n",
       "<tr><td>H2O_cluster_version_age:</td>\n",
       "<td>2 months and 10 days </td></tr>\n",
       "<tr><td>H2O_cluster_name:</td>\n",
       "<td>H2O_from_python_uba_p_tdrjr9</td></tr>\n",
       "<tr><td>H2O_cluster_total_nodes:</td>\n",
       "<td>1</td></tr>\n",
       "<tr><td>H2O_cluster_free_memory:</td>\n",
       "<td>6.639 Gb</td></tr>\n",
       "<tr><td>H2O_cluster_total_cores:</td>\n",
       "<td>12</td></tr>\n",
       "<tr><td>H2O_cluster_allowed_cores:</td>\n",
       "<td>12</td></tr>\n",
       "<tr><td>H2O_cluster_status:</td>\n",
       "<td>locked, healthy</td></tr>\n",
       "<tr><td>H2O_connection_url:</td>\n",
       "<td>http://localhost:54323</td></tr>\n",
       "<tr><td>H2O_connection_proxy:</td>\n",
       "<td>{\"http\": null, \"https\": null}</td></tr>\n",
       "<tr><td>H2O_internal_security:</td>\n",
       "<td>False</td></tr>\n",
       "<tr><td>H2O_API_Extensions:</td>\n",
       "<td>Amazon S3, Algos, AutoML, Core V3, TargetEncoder, Core V4</td></tr>\n",
       "<tr><td>Python_version:</td>\n",
       "<td>3.8.5 final</td></tr></table></div>"
      ],
      "text/plain": [
       "--------------------------  ---------------------------------------------------------\n",
       "H2O_cluster_uptime:         09 secs\n",
       "H2O_cluster_timezone:       Europe/Paris\n",
       "H2O_data_parsing_timezone:  UTC\n",
       "H2O_cluster_version:        3.32.0.3\n",
       "H2O_cluster_version_age:    2 months and 10 days\n",
       "H2O_cluster_name:           H2O_from_python_uba_p_tdrjr9\n",
       "H2O_cluster_total_nodes:    1\n",
       "H2O_cluster_free_memory:    6.639 Gb\n",
       "H2O_cluster_total_cores:    12\n",
       "H2O_cluster_allowed_cores:  12\n",
       "H2O_cluster_status:         locked, healthy\n",
       "H2O_connection_url:         http://localhost:54323\n",
       "H2O_connection_proxy:       {\"http\": null, \"https\": null}\n",
       "H2O_internal_security:      False\n",
       "H2O_API_Extensions:         Amazon S3, Algos, AutoML, Core V3, TargetEncoder, Core V4\n",
       "Python_version:             3.8.5 final\n",
       "--------------------------  ---------------------------------------------------------"
      ]
     },
     "metadata": {},
     "output_type": "display_data"
    }
   ],
   "source": [
    "import h2o\n",
    "h2o.init(ip=\"localhost\", port=54323)"
   ]
  },
  {
   "cell_type": "code",
   "execution_count": 7,
   "metadata": {},
   "outputs": [
    {
     "name": "stdout",
     "output_type": "stream",
     "text": [
      "Parse progress: |█████████████████████████████████████████████████████████| 100%\n"
     ]
    }
   ],
   "source": [
    "birds = h2o.import_file(\"https://s3.amazonaws.com/h2o-public-test-data/smalldata/pca_test/birds.csv\")"
   ]
  },
  {
   "cell_type": "code",
   "execution_count": 12,
   "metadata": {},
   "outputs": [
    {
     "data": {
      "text/html": [
       "<table>\n",
       "<thead>\n",
       "<tr><th>patch  </th><th style=\"text-align: right;\">  S</th><th style=\"text-align: right;\">  year</th><th>landscape  </th><th style=\"text-align: right;\">     area</th><th style=\"text-align: right;\">  log.area.</th><th style=\"text-align: right;\">    ENN</th><th style=\"text-align: right;\">  log.ENN.</th></tr>\n",
       "</thead>\n",
       "<tbody>\n",
       "<tr><td>ag1a   </td><td style=\"text-align: right;\"> 24</td><td style=\"text-align: right;\">  2005</td><td>Agriculture</td><td style=\"text-align: right;\"> 3.51018 </td><td style=\"text-align: right;\">   0.54533 </td><td style=\"text-align: right;\">20     </td><td style=\"text-align: right;\">   1.30103</td></tr>\n",
       "<tr><td>ag1b   </td><td style=\"text-align: right;\"> 15</td><td style=\"text-align: right;\">  2005</td><td>Agriculture</td><td style=\"text-align: right;\"> 0.615515</td><td style=\"text-align: right;\">  -0.210761</td><td style=\"text-align: right;\">31.6228</td><td style=\"text-align: right;\">   1.5    </td></tr>\n",
       "<tr><td>ag1c   </td><td style=\"text-align: right;\"> 25</td><td style=\"text-align: right;\">  2005</td><td>Agriculture</td><td style=\"text-align: right;\"> 2.23505 </td><td style=\"text-align: right;\">   0.349287</td><td style=\"text-align: right;\">31.6228</td><td style=\"text-align: right;\">   1.5    </td></tr>\n",
       "<tr><td>ag1d   </td><td style=\"text-align: right;\"> 35</td><td style=\"text-align: right;\">  2005</td><td>Agriculture</td><td style=\"text-align: right;\"> 8.27988 </td><td style=\"text-align: right;\">   0.918024</td><td style=\"text-align: right;\">40     </td><td style=\"text-align: right;\">   1.60206</td></tr>\n",
       "<tr><td>ag2a   </td><td style=\"text-align: right;\"> 32</td><td style=\"text-align: right;\">  2005</td><td>Agriculture</td><td style=\"text-align: right;\"> 1.37365 </td><td style=\"text-align: right;\">   0.137877</td><td style=\"text-align: right;\">30     </td><td style=\"text-align: right;\">   1.47712</td></tr>\n",
       "<tr><td>ag2b   </td><td style=\"text-align: right;\"> 40</td><td style=\"text-align: right;\">  2005</td><td>Agriculture</td><td style=\"text-align: right;\">59.2798  </td><td style=\"text-align: right;\">   1.77291 </td><td style=\"text-align: right;\">14.1421</td><td style=\"text-align: right;\">   1.15051</td></tr>\n",
       "<tr><td>ag2c   </td><td style=\"text-align: right;\"> 27</td><td style=\"text-align: right;\">  2005</td><td>Agriculture</td><td style=\"text-align: right;\"> 0.558077</td><td style=\"text-align: right;\">  -0.253306</td><td style=\"text-align: right;\">31.6228</td><td style=\"text-align: right;\">   1.5    </td></tr>\n",
       "<tr><td>ag2d   </td><td style=\"text-align: right;\"> 37</td><td style=\"text-align: right;\">  2005</td><td>Agriculture</td><td style=\"text-align: right;\"> 4.3     </td><td style=\"text-align: right;\">   0.633468</td><td style=\"text-align: right;\">14.1421</td><td style=\"text-align: right;\">   1.15051</td></tr>\n",
       "<tr><td>ag3a   </td><td style=\"text-align: right;\"> 40</td><td style=\"text-align: right;\">  2005</td><td>Agriculture</td><td style=\"text-align: right;\">19.6362  </td><td style=\"text-align: right;\">   1.29306 </td><td style=\"text-align: right;\">22.3607</td><td style=\"text-align: right;\">   1.34949</td></tr>\n",
       "<tr><td>ag3b   </td><td style=\"text-align: right;\"> 36</td><td style=\"text-align: right;\">  2005</td><td>Agriculture</td><td style=\"text-align: right;\"> 5.49117 </td><td style=\"text-align: right;\">   0.739665</td><td style=\"text-align: right;\">31.6228</td><td style=\"text-align: right;\">   1.5    </td></tr>\n",
       "</tbody>\n",
       "</table>"
      ]
     },
     "metadata": {},
     "output_type": "display_data"
    },
    {
     "data": {
      "text/plain": []
     },
     "execution_count": 12,
     "metadata": {},
     "output_type": "execute_result"
    }
   ],
   "source": [
    "birds"
   ]
  },
  {
   "cell_type": "code",
   "execution_count": 13,
   "metadata": {},
   "outputs": [
    {
     "name": "stdout",
     "output_type": "stream",
     "text": [
      "Parse progress: |█████████████████████████████████████████████████████████| 100%\n"
     ]
    },
    {
     "data": {
      "text/html": [
       "<table>\n",
       "<thead>\n",
       "<tr><th style=\"text-align: right;\">  ID</th><th style=\"text-align: right;\">  CAPSULE</th><th style=\"text-align: right;\">  AGE</th><th style=\"text-align: right;\">  RACE</th><th style=\"text-align: right;\">  DPROS</th><th style=\"text-align: right;\">  DCAPS</th><th style=\"text-align: right;\">  PSA</th><th style=\"text-align: right;\">  VOL</th><th style=\"text-align: right;\">  GLEASON</th></tr>\n",
       "</thead>\n",
       "<tbody>\n",
       "<tr><td style=\"text-align: right;\">   1</td><td style=\"text-align: right;\">        0</td><td style=\"text-align: right;\">   65</td><td style=\"text-align: right;\">     1</td><td style=\"text-align: right;\">      2</td><td style=\"text-align: right;\">      1</td><td style=\"text-align: right;\">  1.4</td><td style=\"text-align: right;\">  0  </td><td style=\"text-align: right;\">        6</td></tr>\n",
       "<tr><td style=\"text-align: right;\">   2</td><td style=\"text-align: right;\">        0</td><td style=\"text-align: right;\">   72</td><td style=\"text-align: right;\">     1</td><td style=\"text-align: right;\">      3</td><td style=\"text-align: right;\">      2</td><td style=\"text-align: right;\">  6.7</td><td style=\"text-align: right;\">  0  </td><td style=\"text-align: right;\">        7</td></tr>\n",
       "<tr><td style=\"text-align: right;\">   3</td><td style=\"text-align: right;\">        0</td><td style=\"text-align: right;\">   70</td><td style=\"text-align: right;\">     1</td><td style=\"text-align: right;\">      1</td><td style=\"text-align: right;\">      2</td><td style=\"text-align: right;\">  4.9</td><td style=\"text-align: right;\">  0  </td><td style=\"text-align: right;\">        6</td></tr>\n",
       "<tr><td style=\"text-align: right;\">   4</td><td style=\"text-align: right;\">        0</td><td style=\"text-align: right;\">   76</td><td style=\"text-align: right;\">     2</td><td style=\"text-align: right;\">      2</td><td style=\"text-align: right;\">      1</td><td style=\"text-align: right;\"> 51.2</td><td style=\"text-align: right;\"> 20  </td><td style=\"text-align: right;\">        7</td></tr>\n",
       "<tr><td style=\"text-align: right;\">   5</td><td style=\"text-align: right;\">        0</td><td style=\"text-align: right;\">   69</td><td style=\"text-align: right;\">     1</td><td style=\"text-align: right;\">      1</td><td style=\"text-align: right;\">      1</td><td style=\"text-align: right;\"> 12.3</td><td style=\"text-align: right;\"> 55.9</td><td style=\"text-align: right;\">        6</td></tr>\n",
       "<tr><td style=\"text-align: right;\">   6</td><td style=\"text-align: right;\">        1</td><td style=\"text-align: right;\">   71</td><td style=\"text-align: right;\">     1</td><td style=\"text-align: right;\">      3</td><td style=\"text-align: right;\">      2</td><td style=\"text-align: right;\">  3.3</td><td style=\"text-align: right;\">  0  </td><td style=\"text-align: right;\">        8</td></tr>\n",
       "<tr><td style=\"text-align: right;\">   7</td><td style=\"text-align: right;\">        0</td><td style=\"text-align: right;\">   68</td><td style=\"text-align: right;\">     2</td><td style=\"text-align: right;\">      4</td><td style=\"text-align: right;\">      2</td><td style=\"text-align: right;\"> 31.9</td><td style=\"text-align: right;\">  0  </td><td style=\"text-align: right;\">        7</td></tr>\n",
       "<tr><td style=\"text-align: right;\">   8</td><td style=\"text-align: right;\">        0</td><td style=\"text-align: right;\">   61</td><td style=\"text-align: right;\">     2</td><td style=\"text-align: right;\">      4</td><td style=\"text-align: right;\">      2</td><td style=\"text-align: right;\"> 66.7</td><td style=\"text-align: right;\"> 27.2</td><td style=\"text-align: right;\">        7</td></tr>\n",
       "<tr><td style=\"text-align: right;\">   9</td><td style=\"text-align: right;\">        0</td><td style=\"text-align: right;\">   69</td><td style=\"text-align: right;\">     1</td><td style=\"text-align: right;\">      1</td><td style=\"text-align: right;\">      1</td><td style=\"text-align: right;\">  3.9</td><td style=\"text-align: right;\"> 24  </td><td style=\"text-align: right;\">        7</td></tr>\n",
       "<tr><td style=\"text-align: right;\">  10</td><td style=\"text-align: right;\">        0</td><td style=\"text-align: right;\">   68</td><td style=\"text-align: right;\">     2</td><td style=\"text-align: right;\">      1</td><td style=\"text-align: right;\">      2</td><td style=\"text-align: right;\"> 13  </td><td style=\"text-align: right;\">  0  </td><td style=\"text-align: right;\">        6</td></tr>\n",
       "</tbody>\n",
       "</table>"
      ]
     },
     "metadata": {},
     "output_type": "display_data"
    },
    {
     "data": {
      "text/plain": []
     },
     "execution_count": 13,
     "metadata": {},
     "output_type": "execute_result"
    }
   ],
   "source": [
    "training_data = h2o.import_file(\"http://s3.amazonaws.com/h2o-public-test-data/smalldata/prostate/prostate.csv.zip\")\n",
    "new_name = \"new_frame\"\n",
    "training_copy = h2o.deep_copy(training_data, new_name)\n",
    "training_copy"
   ]
  },
  {
   "cell_type": "code",
   "execution_count": 21,
   "metadata": {},
   "outputs": [
    {
     "name": "stdout",
     "output_type": "stream",
     "text": [
      "Parse progress: |█████████████████████████████████████████████████████████| 100%\n",
      "glm Model Build progress: |███████████████████████████████████████████████| 100%\n"
     ]
    }
   ],
   "source": [
    "from h2o.estimators import H2OGeneralizedLinearEstimator, H2OXGBoostEstimator\n",
    "\n",
    "airlines= h2o.import_file(\"https://s3.amazonaws.com/h2o-public-test-data/smalldata/airlines/allyears2k_headers.zip\")\n",
    "airlines[\"Year\"]= airlines[\"Year\"].asfactor()\n",
    "airlines[\"Month\"]= airlines[\"Month\"].asfactor()\n",
    "airlines[\"DayOfWeek\"] = airlines[\"DayOfWeek\"].asfactor()\n",
    "airlines[\"Cancelled\"] = airlines[\"Cancelled\"].asfactor()\n",
    "airlines['FlightNum'] = airlines['FlightNum'].asfactor()\n",
    "predictors = [\"Origin\", \"Dest\", \"Year\", \"UniqueCarrier\",\n",
    "              \"DayOfWeek\", \"Month\", \"Distance\", \"FlightNum\"]\n",
    "response = \"IsDepDelayed\"\n",
    "model = H2OGeneralizedLinearEstimator(family=\"binomial\",\n",
    "                                      alpha=0,\n",
    "                                      Lambda=1e-5)\n",
    "model.train(x=predictors,\n",
    "            y=response,\n",
    "            training_frame=airlines)\n",
    "model2 = h2o.get_model(model.model_id)"
   ]
  },
  {
   "cell_type": "code",
   "execution_count": 24,
   "metadata": {},
   "outputs": [
    {
     "name": "stdout",
     "output_type": "stream",
     "text": [
      "Rows:43978\n",
      "Cols:31\n",
      "\n",
      "\n"
     ]
    },
    {
     "data": {
      "text/html": [
       "<table>\n",
       "<thead>\n",
       "<tr><th>       </th><th>Year  </th><th>Month  </th><th>DayofMonth        </th><th>DayOfWeek  </th><th>DepTime          </th><th>CRSDepTime        </th><th>ArrTime          </th><th>CRSArrTime        </th><th>UniqueCarrier  </th><th>FlightNum  </th><th>TailNum  </th><th>ActualElapsedTime  </th><th>CRSElapsedTime    </th><th>AirTime           </th><th>ArrDelay          </th><th>DepDelay          </th><th>Origin  </th><th>Dest  </th><th>Distance         </th><th>TaxiIn           </th><th>TaxiOut          </th><th>Cancelled  </th><th>CancellationCode  </th><th>Diverted             </th><th>CarrierDelay     </th><th>WeatherDelay      </th><th>NASDelay          </th><th>SecurityDelay     </th><th>LateAircraftDelay  </th><th>IsArrDelayed  </th><th>IsDepDelayed  </th></tr>\n",
       "</thead>\n",
       "<tbody>\n",
       "<tr><td>type   </td><td>enum  </td><td>enum   </td><td>int               </td><td>enum       </td><td>int              </td><td>int               </td><td>int              </td><td>int               </td><td>enum           </td><td>enum       </td><td>enum     </td><td>int                </td><td>int               </td><td>int               </td><td>int               </td><td>int               </td><td>enum    </td><td>enum  </td><td>int              </td><td>int              </td><td>int              </td><td>enum       </td><td>enum              </td><td>int                  </td><td>int              </td><td>int               </td><td>int               </td><td>int               </td><td>int                </td><td>enum          </td><td>enum          </td></tr>\n",
       "<tr><td>mins   </td><td>      </td><td>       </td><td>1.0               </td><td>           </td><td>1.0              </td><td>0.0               </td><td>1.0              </td><td>0.0               </td><td>               </td><td>           </td><td>         </td><td>16.0               </td><td>17.0              </td><td>14.0              </td><td>-63.0             </td><td>-16.0             </td><td>        </td><td>      </td><td>11.0             </td><td>0.0              </td><td>0.0              </td><td>           </td><td>                  </td><td>0.0                  </td><td>0.0              </td><td>0.0               </td><td>0.0               </td><td>0.0               </td><td>0.0                </td><td>              </td><td>              </td></tr>\n",
       "<tr><td>mean   </td><td>      </td><td>       </td><td>14.601073263904551</td><td>           </td><td>1345.846661382077</td><td>1313.2228614307262</td><td>1504.634130378886</td><td>1485.2891673109345</td><td>               </td><td>           </td><td>         </td><td>124.8145291354039  </td><td>125.02156260661906</td><td>114.31611109078231</td><td>9.317111936984306 </td><td>10.007390655600112</td><td>        </td><td>      </td><td>730.1821905650557</td><td>5.381368059530588</td><td>14.16863418473208</td><td>           </td><td>                  </td><td>0.0024785119832643593</td><td>4.047800291055639</td><td>0.2893764692712412</td><td>4.8550319041755365</td><td>0.0170155602821001</td><td>7.620060450016796  </td><td>              </td><td>              </td></tr>\n",
       "<tr><td>maxs   </td><td>      </td><td>       </td><td>31.0              </td><td>           </td><td>2400.0           </td><td>2359.0            </td><td>2400.0           </td><td>2359.0            </td><td>               </td><td>           </td><td>         </td><td>475.0              </td><td>437.0             </td><td>402.0             </td><td>475.0             </td><td>473.0             </td><td>        </td><td>      </td><td>3365.0           </td><td>128.0            </td><td>254.0            </td><td>           </td><td>                  </td><td>1.0                  </td><td>369.0            </td><td>201.0             </td><td>323.0             </td><td>14.0              </td><td>373.0              </td><td>              </td><td>              </td></tr>\n",
       "<tr><td>sigma  </td><td>      </td><td>       </td><td>9.175790425861413 </td><td>           </td><td>465.3408991242322</td><td>476.2511399926005 </td><td>484.3474879035152</td><td>492.75043412270105</td><td>               </td><td>           </td><td>         </td><td>73.97444166059017  </td><td>73.40159463000951 </td><td>69.6363295150612  </td><td>29.840221962414837</td><td>26.438809042916418</td><td>        </td><td>      </td><td>578.4380082304235</td><td>4.201979939864826</td><td>9.905085747204279</td><td>           </td><td>                  </td><td>0.049723487218862286 </td><td>16.2057299044842 </td><td>4.416779898734125 </td><td>18.619776221475654</td><td>0.403940182101512 </td><td>23.48756587410621  </td><td>              </td><td>              </td></tr>\n",
       "<tr><td>zeros  </td><td>      </td><td>       </td><td>0                 </td><td>           </td><td>0                </td><td>569               </td><td>0                </td><td>569               </td><td>               </td><td>           </td><td>         </td><td>0                  </td><td>0                 </td><td>0                 </td><td>1514              </td><td>6393              </td><td>        </td><td>      </td><td>0                </td><td>623              </td><td>557              </td><td>           </td><td>                  </td><td>43869                </td><td>7344             </td><td>8840              </td><td>7388              </td><td>8914              </td><td>7140               </td><td>              </td><td>              </td></tr>\n",
       "<tr><td>missing</td><td>0     </td><td>0      </td><td>0                 </td><td>0          </td><td>1086             </td><td>0                 </td><td>1195             </td><td>0                 </td><td>0              </td><td>0          </td><td>32       </td><td>1195               </td><td>13                </td><td>16649             </td><td>1195              </td><td>1086              </td><td>0       </td><td>0     </td><td>35               </td><td>16026            </td><td>16024            </td><td>0          </td><td>9774              </td><td>0                    </td><td>35045            </td><td>35045             </td><td>35045             </td><td>35045             </td><td>35045              </td><td>0             </td><td>0             </td></tr>\n",
       "<tr><td>0      </td><td>1987  </td><td>10     </td><td>14.0              </td><td>3          </td><td>741.0            </td><td>730.0             </td><td>912.0            </td><td>849.0             </td><td>PS             </td><td>1451       </td><td>NA       </td><td>91.0               </td><td>79.0              </td><td>nan               </td><td>23.0              </td><td>11.0              </td><td>SAN     </td><td>SFO   </td><td>447.0            </td><td>nan              </td><td>nan              </td><td>0          </td><td>NA                </td><td>0.0                  </td><td>nan              </td><td>nan               </td><td>nan               </td><td>nan               </td><td>nan                </td><td>YES           </td><td>YES           </td></tr>\n",
       "<tr><td>1      </td><td>1987  </td><td>10     </td><td>15.0              </td><td>4          </td><td>729.0            </td><td>730.0             </td><td>903.0            </td><td>849.0             </td><td>PS             </td><td>1451       </td><td>NA       </td><td>94.0               </td><td>79.0              </td><td>nan               </td><td>14.0              </td><td>-1.0              </td><td>SAN     </td><td>SFO   </td><td>447.0            </td><td>nan              </td><td>nan              </td><td>0          </td><td>NA                </td><td>0.0                  </td><td>nan              </td><td>nan               </td><td>nan               </td><td>nan               </td><td>nan                </td><td>YES           </td><td>NO            </td></tr>\n",
       "<tr><td>2      </td><td>1987  </td><td>10     </td><td>17.0              </td><td>6          </td><td>741.0            </td><td>730.0             </td><td>918.0            </td><td>849.0             </td><td>PS             </td><td>1451       </td><td>NA       </td><td>97.0               </td><td>79.0              </td><td>nan               </td><td>29.0              </td><td>11.0              </td><td>SAN     </td><td>SFO   </td><td>447.0            </td><td>nan              </td><td>nan              </td><td>0          </td><td>NA                </td><td>0.0                  </td><td>nan              </td><td>nan               </td><td>nan               </td><td>nan               </td><td>nan                </td><td>YES           </td><td>YES           </td></tr>\n",
       "<tr><td>3      </td><td>1987  </td><td>10     </td><td>18.0              </td><td>7          </td><td>729.0            </td><td>730.0             </td><td>847.0            </td><td>849.0             </td><td>PS             </td><td>1451       </td><td>NA       </td><td>78.0               </td><td>79.0              </td><td>nan               </td><td>-2.0              </td><td>-1.0              </td><td>SAN     </td><td>SFO   </td><td>447.0            </td><td>nan              </td><td>nan              </td><td>0          </td><td>NA                </td><td>0.0                  </td><td>nan              </td><td>nan               </td><td>nan               </td><td>nan               </td><td>nan                </td><td>NO            </td><td>NO            </td></tr>\n",
       "<tr><td>4      </td><td>1987  </td><td>10     </td><td>19.0              </td><td>1          </td><td>749.0            </td><td>730.0             </td><td>922.0            </td><td>849.0             </td><td>PS             </td><td>1451       </td><td>NA       </td><td>93.0               </td><td>79.0              </td><td>nan               </td><td>33.0              </td><td>19.0              </td><td>SAN     </td><td>SFO   </td><td>447.0            </td><td>nan              </td><td>nan              </td><td>0          </td><td>NA                </td><td>0.0                  </td><td>nan              </td><td>nan               </td><td>nan               </td><td>nan               </td><td>nan                </td><td>YES           </td><td>YES           </td></tr>\n",
       "<tr><td>5      </td><td>1987  </td><td>10     </td><td>21.0              </td><td>3          </td><td>728.0            </td><td>730.0             </td><td>848.0            </td><td>849.0             </td><td>PS             </td><td>1451       </td><td>NA       </td><td>80.0               </td><td>79.0              </td><td>nan               </td><td>-1.0              </td><td>-2.0              </td><td>SAN     </td><td>SFO   </td><td>447.0            </td><td>nan              </td><td>nan              </td><td>0          </td><td>NA                </td><td>0.0                  </td><td>nan              </td><td>nan               </td><td>nan               </td><td>nan               </td><td>nan                </td><td>NO            </td><td>NO            </td></tr>\n",
       "<tr><td>6      </td><td>1987  </td><td>10     </td><td>22.0              </td><td>4          </td><td>728.0            </td><td>730.0             </td><td>852.0            </td><td>849.0             </td><td>PS             </td><td>1451       </td><td>NA       </td><td>84.0               </td><td>79.0              </td><td>nan               </td><td>3.0               </td><td>-2.0              </td><td>SAN     </td><td>SFO   </td><td>447.0            </td><td>nan              </td><td>nan              </td><td>0          </td><td>NA                </td><td>0.0                  </td><td>nan              </td><td>nan               </td><td>nan               </td><td>nan               </td><td>nan                </td><td>YES           </td><td>NO            </td></tr>\n",
       "<tr><td>7      </td><td>1987  </td><td>10     </td><td>23.0              </td><td>5          </td><td>731.0            </td><td>730.0             </td><td>902.0            </td><td>849.0             </td><td>PS             </td><td>1451       </td><td>NA       </td><td>91.0               </td><td>79.0              </td><td>nan               </td><td>13.0              </td><td>1.0               </td><td>SAN     </td><td>SFO   </td><td>447.0            </td><td>nan              </td><td>nan              </td><td>0          </td><td>NA                </td><td>0.0                  </td><td>nan              </td><td>nan               </td><td>nan               </td><td>nan               </td><td>nan                </td><td>YES           </td><td>YES           </td></tr>\n",
       "<tr><td>8      </td><td>1987  </td><td>10     </td><td>24.0              </td><td>6          </td><td>744.0            </td><td>730.0             </td><td>908.0            </td><td>849.0             </td><td>PS             </td><td>1451       </td><td>NA       </td><td>84.0               </td><td>79.0              </td><td>nan               </td><td>19.0              </td><td>14.0              </td><td>SAN     </td><td>SFO   </td><td>447.0            </td><td>nan              </td><td>nan              </td><td>0          </td><td>NA                </td><td>0.0                  </td><td>nan              </td><td>nan               </td><td>nan               </td><td>nan               </td><td>nan                </td><td>YES           </td><td>YES           </td></tr>\n",
       "<tr><td>9      </td><td>1987  </td><td>10     </td><td>25.0              </td><td>7          </td><td>729.0            </td><td>730.0             </td><td>851.0            </td><td>849.0             </td><td>PS             </td><td>1451       </td><td>NA       </td><td>82.0               </td><td>79.0              </td><td>nan               </td><td>2.0               </td><td>-1.0              </td><td>SAN     </td><td>SFO   </td><td>447.0            </td><td>nan              </td><td>nan              </td><td>0          </td><td>NA                </td><td>0.0                  </td><td>nan              </td><td>nan               </td><td>nan               </td><td>nan               </td><td>nan                </td><td>YES           </td><td>NO            </td></tr>\n",
       "</tbody>\n",
       "</table>"
      ]
     },
     "metadata": {},
     "output_type": "display_data"
    }
   ],
   "source": [
    "airlines.describe()"
   ]
  },
  {
   "cell_type": "code",
   "execution_count": null,
   "metadata": {},
   "outputs": [],
   "source": [
    "########################################### K-MEANS EXAMPLE ###################################################"
   ]
  },
  {
   "cell_type": "code",
   "execution_count": 1,
   "metadata": {},
   "outputs": [
    {
     "name": "stdout",
     "output_type": "stream",
     "text": [
      "Checking whether there is an H2O instance running at http://localhost:54321 ..... not found.\n",
      "Attempting to start a local H2O server...\n",
      "; Java HotSpot(TM) 64-Bit Server VM (build 25.271-b09, mixed mode)\n",
      "  Starting server from C:\\Users\\uba_p\\anaconda3\\Lib\\site-packages\\h2o\\backend\\bin\\h2o.jar\n",
      "  Ice root: C:\\Users\\uba_p\\AppData\\Local\\Temp\\tmprg6uymyb\n",
      "  JVM stdout: C:\\Users\\uba_p\\AppData\\Local\\Temp\\tmprg6uymyb\\h2o_uba_p_started_from_python.out\n",
      "  JVM stderr: C:\\Users\\uba_p\\AppData\\Local\\Temp\\tmprg6uymyb\\h2o_uba_p_started_from_python.err\n",
      "  Server is running at http://127.0.0.1:54321\n",
      "Connecting to H2O server at http://127.0.0.1:54321 ... successful.\n"
     ]
    },
    {
     "data": {
      "text/html": [
       "<div style=\"overflow:auto\"><table style=\"width:50%\"><tr><td>H2O_cluster_uptime:</td>\n",
       "<td>06 secs</td></tr>\n",
       "<tr><td>H2O_cluster_timezone:</td>\n",
       "<td>Europe/Paris</td></tr>\n",
       "<tr><td>H2O_data_parsing_timezone:</td>\n",
       "<td>UTC</td></tr>\n",
       "<tr><td>H2O_cluster_version:</td>\n",
       "<td>3.32.0.3</td></tr>\n",
       "<tr><td>H2O_cluster_version_age:</td>\n",
       "<td>1 month and 2 days </td></tr>\n",
       "<tr><td>H2O_cluster_name:</td>\n",
       "<td>H2O_from_python_uba_p_knzjlf</td></tr>\n",
       "<tr><td>H2O_cluster_total_nodes:</td>\n",
       "<td>1</td></tr>\n",
       "<tr><td>H2O_cluster_free_memory:</td>\n",
       "<td>3.533 Gb</td></tr>\n",
       "<tr><td>H2O_cluster_total_cores:</td>\n",
       "<td>8</td></tr>\n",
       "<tr><td>H2O_cluster_allowed_cores:</td>\n",
       "<td>8</td></tr>\n",
       "<tr><td>H2O_cluster_status:</td>\n",
       "<td>accepting new members, healthy</td></tr>\n",
       "<tr><td>H2O_connection_url:</td>\n",
       "<td>http://127.0.0.1:54321</td></tr>\n",
       "<tr><td>H2O_connection_proxy:</td>\n",
       "<td>{\"http\": null, \"https\": null}</td></tr>\n",
       "<tr><td>H2O_internal_security:</td>\n",
       "<td>False</td></tr>\n",
       "<tr><td>H2O_API_Extensions:</td>\n",
       "<td>Amazon S3, Algos, AutoML, Core V3, TargetEncoder, Core V4</td></tr>\n",
       "<tr><td>Python_version:</td>\n",
       "<td>3.8.3 final</td></tr></table></div>"
      ],
      "text/plain": [
       "--------------------------  ---------------------------------------------------------\n",
       "H2O_cluster_uptime:         06 secs\n",
       "H2O_cluster_timezone:       Europe/Paris\n",
       "H2O_data_parsing_timezone:  UTC\n",
       "H2O_cluster_version:        3.32.0.3\n",
       "H2O_cluster_version_age:    1 month and 2 days\n",
       "H2O_cluster_name:           H2O_from_python_uba_p_knzjlf\n",
       "H2O_cluster_total_nodes:    1\n",
       "H2O_cluster_free_memory:    3.533 Gb\n",
       "H2O_cluster_total_cores:    8\n",
       "H2O_cluster_allowed_cores:  8\n",
       "H2O_cluster_status:         accepting new members, healthy\n",
       "H2O_connection_url:         http://127.0.0.1:54321\n",
       "H2O_connection_proxy:       {\"http\": null, \"https\": null}\n",
       "H2O_internal_security:      False\n",
       "H2O_API_Extensions:         Amazon S3, Algos, AutoML, Core V3, TargetEncoder, Core V4\n",
       "Python_version:             3.8.3 final\n",
       "--------------------------  ---------------------------------------------------------"
      ]
     },
     "metadata": {},
     "output_type": "display_data"
    },
    {
     "name": "stdout",
     "output_type": "stream",
     "text": [
      "Parse progress: |█████████████████████████████████████████████████████████| 100%\n"
     ]
    }
   ],
   "source": [
    "import h2o\n",
    "from h2o.estimators import H2OKMeansEstimator\n",
    "h2o.init()\n",
    "\n",
    "# Import the iris dataset into H2O:\n",
    "iris = h2o.import_file(\"http://h2o-public-test-data.s3.amazonaws.com/smalldata/iris/iris_wheader.csv\")\n",
    "\n",
    "# Set the predictors:\n",
    "predictors = [\"sepal_len\", \"sepal_wid\", \"petal_len\", \"petal_wid\"]\n"
   ]
  },
  {
   "cell_type": "code",
   "execution_count": 30,
   "metadata": {},
   "outputs": [
    {
     "data": {
      "text/html": [
       "<table>\n",
       "<thead>\n",
       "<tr><th style=\"text-align: right;\">  sepal_len</th><th style=\"text-align: right;\">  sepal_wid</th><th style=\"text-align: right;\">  petal_len</th><th style=\"text-align: right;\">  petal_wid</th><th>class      </th></tr>\n",
       "</thead>\n",
       "<tbody>\n",
       "<tr><td style=\"text-align: right;\">        5.1</td><td style=\"text-align: right;\">        3.5</td><td style=\"text-align: right;\">        1.4</td><td style=\"text-align: right;\">        0.2</td><td>Iris-setosa</td></tr>\n",
       "<tr><td style=\"text-align: right;\">        4.9</td><td style=\"text-align: right;\">        3  </td><td style=\"text-align: right;\">        1.4</td><td style=\"text-align: right;\">        0.2</td><td>Iris-setosa</td></tr>\n",
       "<tr><td style=\"text-align: right;\">        4.7</td><td style=\"text-align: right;\">        3.2</td><td style=\"text-align: right;\">        1.3</td><td style=\"text-align: right;\">        0.2</td><td>Iris-setosa</td></tr>\n",
       "<tr><td style=\"text-align: right;\">        4.6</td><td style=\"text-align: right;\">        3.1</td><td style=\"text-align: right;\">        1.5</td><td style=\"text-align: right;\">        0.2</td><td>Iris-setosa</td></tr>\n",
       "<tr><td style=\"text-align: right;\">        5  </td><td style=\"text-align: right;\">        3.6</td><td style=\"text-align: right;\">        1.4</td><td style=\"text-align: right;\">        0.2</td><td>Iris-setosa</td></tr>\n",
       "<tr><td style=\"text-align: right;\">        5.4</td><td style=\"text-align: right;\">        3.9</td><td style=\"text-align: right;\">        1.7</td><td style=\"text-align: right;\">        0.4</td><td>Iris-setosa</td></tr>\n",
       "<tr><td style=\"text-align: right;\">        4.6</td><td style=\"text-align: right;\">        3.4</td><td style=\"text-align: right;\">        1.4</td><td style=\"text-align: right;\">        0.3</td><td>Iris-setosa</td></tr>\n",
       "<tr><td style=\"text-align: right;\">        5  </td><td style=\"text-align: right;\">        3.4</td><td style=\"text-align: right;\">        1.5</td><td style=\"text-align: right;\">        0.2</td><td>Iris-setosa</td></tr>\n",
       "<tr><td style=\"text-align: right;\">        4.4</td><td style=\"text-align: right;\">        2.9</td><td style=\"text-align: right;\">        1.4</td><td style=\"text-align: right;\">        0.2</td><td>Iris-setosa</td></tr>\n",
       "<tr><td style=\"text-align: right;\">        4.9</td><td style=\"text-align: right;\">        3.1</td><td style=\"text-align: right;\">        1.5</td><td style=\"text-align: right;\">        0.1</td><td>Iris-setosa</td></tr>\n",
       "</tbody>\n",
       "</table>"
      ]
     },
     "metadata": {},
     "output_type": "display_data"
    },
    {
     "data": {
      "text/plain": []
     },
     "execution_count": 30,
     "metadata": {},
     "output_type": "execute_result"
    }
   ],
   "source": [
    "iris.head()"
   ]
  },
  {
   "cell_type": "code",
   "execution_count": 36,
   "metadata": {},
   "outputs": [
    {
     "name": "stdout",
     "output_type": "stream",
     "text": [
      "Rows:150\n",
      "Cols:5\n",
      "\n",
      "\n"
     ]
    },
    {
     "data": {
      "text/html": [
       "<table>\n",
       "<thead>\n",
       "<tr><th>       </th><th>sepal_len         </th><th>sepal_wid          </th><th>petal_len        </th><th>petal_wid         </th><th>class      </th></tr>\n",
       "</thead>\n",
       "<tbody>\n",
       "<tr><td>type   </td><td>real              </td><td>real               </td><td>real             </td><td>real              </td><td>enum       </td></tr>\n",
       "<tr><td>mins   </td><td>4.3               </td><td>2.0                </td><td>1.0              </td><td>0.1               </td><td>           </td></tr>\n",
       "<tr><td>mean   </td><td>5.843333333333333 </td><td>3.053999999999999  </td><td>3.758666666666667</td><td>1.1986666666666665</td><td>           </td></tr>\n",
       "<tr><td>maxs   </td><td>7.9               </td><td>4.4                </td><td>6.9              </td><td>2.5               </td><td>           </td></tr>\n",
       "<tr><td>sigma  </td><td>0.8280661279778637</td><td>0.43359431136217375</td><td>1.764420419952262</td><td>0.7631607417008414</td><td>           </td></tr>\n",
       "<tr><td>zeros  </td><td>0                 </td><td>0                  </td><td>0                </td><td>0                 </td><td>           </td></tr>\n",
       "<tr><td>missing</td><td>0                 </td><td>0                  </td><td>0                </td><td>0                 </td><td>0          </td></tr>\n",
       "<tr><td>0      </td><td>5.1               </td><td>3.5                </td><td>1.4              </td><td>0.2               </td><td>Iris-setosa</td></tr>\n",
       "<tr><td>1      </td><td>4.9               </td><td>3.0                </td><td>1.4              </td><td>0.2               </td><td>Iris-setosa</td></tr>\n",
       "<tr><td>2      </td><td>4.7               </td><td>3.2                </td><td>1.3              </td><td>0.2               </td><td>Iris-setosa</td></tr>\n",
       "<tr><td>3      </td><td>4.6               </td><td>3.1                </td><td>1.5              </td><td>0.2               </td><td>Iris-setosa</td></tr>\n",
       "<tr><td>4      </td><td>5.0               </td><td>3.6                </td><td>1.4              </td><td>0.2               </td><td>Iris-setosa</td></tr>\n",
       "<tr><td>5      </td><td>5.4               </td><td>3.9                </td><td>1.7              </td><td>0.4               </td><td>Iris-setosa</td></tr>\n",
       "<tr><td>6      </td><td>4.6               </td><td>3.4                </td><td>1.4              </td><td>0.3               </td><td>Iris-setosa</td></tr>\n",
       "<tr><td>7      </td><td>5.0               </td><td>3.4                </td><td>1.5              </td><td>0.2               </td><td>Iris-setosa</td></tr>\n",
       "<tr><td>8      </td><td>4.4               </td><td>2.9                </td><td>1.4              </td><td>0.2               </td><td>Iris-setosa</td></tr>\n",
       "<tr><td>9      </td><td>4.9               </td><td>3.1                </td><td>1.5              </td><td>0.1               </td><td>Iris-setosa</td></tr>\n",
       "</tbody>\n",
       "</table>"
      ]
     },
     "metadata": {},
     "output_type": "display_data"
    }
   ],
   "source": [
    "iris.describe()"
   ]
  },
  {
   "cell_type": "code",
   "execution_count": 31,
   "metadata": {},
   "outputs": [],
   "source": [
    "# Split the dataset into a train and valid set:\n",
    "train, valid = iris.split_frame(ratios=[.8], seed=1234)"
   ]
  },
  {
   "cell_type": "code",
   "execution_count": 32,
   "metadata": {},
   "outputs": [],
   "source": [
    "# Build and train the model:\n",
    "iris_kmeans = H2OKMeansEstimator(k=10,\n",
    "                                 estimate_k=True,\n",
    "                                 standardize=False,\n",
    "                                 seed=1234)"
   ]
  },
  {
   "cell_type": "code",
   "execution_count": 35,
   "metadata": {},
   "outputs": [
    {
     "name": "stdout",
     "output_type": "stream",
     "text": [
      "kmeans Model Build progress: |████████████████████████████████████████████| 100%\n",
      "kmeans prediction progress: |█████████████████████████████████████████████| 100%\n"
     ]
    }
   ],
   "source": [
    "\n",
    "iris_kmeans.train(x=predictors,\n",
    "                  training_frame=train,\n",
    "                  validation_frame=valid)\n",
    "\n",
    "# Eval performance:\n",
    "perf = iris_kmeans.model_performance()\n",
    "\n",
    "#  Generate predictions on a validation set (if necessary):\n",
    "pred = iris_kmeans.predict(valid)"
   ]
  },
  {
   "cell_type": "code",
   "execution_count": 34,
   "metadata": {},
   "outputs": [
    {
     "data": {
      "text/html": [
       "<table>\n",
       "<thead>\n",
       "<tr><th style=\"text-align: right;\">  predict</th></tr>\n",
       "</thead>\n",
       "<tbody>\n",
       "<tr><td style=\"text-align: right;\">        0</td></tr>\n",
       "<tr><td style=\"text-align: right;\">        0</td></tr>\n",
       "<tr><td style=\"text-align: right;\">        0</td></tr>\n",
       "<tr><td style=\"text-align: right;\">        0</td></tr>\n",
       "<tr><td style=\"text-align: right;\">        0</td></tr>\n",
       "<tr><td style=\"text-align: right;\">        0</td></tr>\n",
       "<tr><td style=\"text-align: right;\">        0</td></tr>\n",
       "<tr><td style=\"text-align: right;\">        0</td></tr>\n",
       "<tr><td style=\"text-align: right;\">        0</td></tr>\n",
       "<tr><td style=\"text-align: right;\">        0</td></tr>\n",
       "</tbody>\n",
       "</table>"
      ]
     },
     "metadata": {},
     "output_type": "display_data"
    },
    {
     "data": {
      "text/plain": []
     },
     "execution_count": 34,
     "metadata": {},
     "output_type": "execute_result"
    }
   ],
   "source": [
    "pred"
   ]
  }
 ],
 "metadata": {
  "kernelspec": {
   "display_name": "Python 3",
   "language": "python",
   "name": "python3"
  },
  "language_info": {
   "codemirror_mode": {
    "name": "ipython",
    "version": 3
   },
   "file_extension": ".py",
   "mimetype": "text/x-python",
   "name": "python",
   "nbconvert_exporter": "python",
   "pygments_lexer": "ipython3",
   "version": "3.8.5"
  }
 },
 "nbformat": 4,
 "nbformat_minor": 4
}
